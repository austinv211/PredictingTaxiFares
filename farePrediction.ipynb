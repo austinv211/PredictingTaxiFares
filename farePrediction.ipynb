{
 "cells": [
  {
   "cell_type": "markdown",
   "metadata": {},
   "source": [
    "## Define a function to get the real distance between to lat/long points\n",
    "- Manhattan distance should be useful, but I think we can do better with real distance\n",
    "- Here we compare a manual calculation to the geopy library"
   ]
  },
  {
   "cell_type": "code",
   "execution_count": 1,
   "metadata": {},
   "outputs": [],
   "source": [
    "from math import sin, cos, sqrt, atan2, radians\n",
    "import geopy.distance\n",
    "import reverse_geocoder as rg\n",
    "import numpy as np\n",
    "\n",
    "QUEENS = (40.7282, 73.7949)\n",
    "BRONX = (40.8448, 73.8648)\n",
    "STATEN = (40.5795, 74.1502)\n",
    "BROOKLYN = (40.6782, 73.9442)\n",
    "MANHATTAN = (40.7831, 73.9712)\n",
    "\n",
    "BURROUGHS = [('Queens', QUEENS), ('Bronx', BRONX), ('Staten', STATEN), ('Brooklyn', BROOKLYN), ('Manhattan', MANHATTAN)]\n",
    "\n",
    "def geo_manhattan_distance(lat1, lat2, long1, long2):\n",
    "    \"\"\"\n",
    "    returns the manhattan distance between two geo points\n",
    "    \"\"\"\n",
    "    return abs(lat2 - lat1) + abs(long2 - long1)\n",
    "\n",
    "def geopy_dist(coord1, coord2):\n",
    "    try:\n",
    "        return geopy.distance.distance(coord1, coord2).kilometers\n",
    "    except:\n",
    "        return -1\n",
    "\n",
    "def haversine(lat1, lon1, lat2, lon2, m_const=3958.8):\n",
    "    lat1, lon1, lat2, lon2 = map(abs, [lat1, lon1, lat2, lon2])\n",
    "    lat1, lon1, lat2, lon2 = map(np.deg2rad, [lat1, lon1, lat2, lon2])\n",
    "    dlat = lat2 - lat1 \n",
    "    dlon = lon2 - lon1 \n",
    "    a = np.sin(dlat/2)**2 + np.cos(lat1) * np.cos(lat2) * np.sin(dlon/2)**2\n",
    "    c = 2 * np.arcsin(np.sqrt(a)) \n",
    "    mi = m_const * c\n",
    "    return mi\n",
    "\n",
    "# filter functions to reduce the dataset\n",
    "def within_boundary(dataframe, boundary):\n",
    "    return (dataframe['pickup_longitude'] >= boundary[0]) & (dataframe['pickup_longitude'] <= boundary[1]) & \\\n",
    "            (dataframe['pickup_latitude'] >= boundary[2]) & (dataframe['pickup_latitude'] <= boundary[3]) & \\\n",
    "            (dataframe['dropoff_longitude'] >= boundary[0]) & (dataframe['dropoff_longitude'] <= boundary[1]) & \\\n",
    "            (dataframe['dropoff_latitude'] >= boundary[2]) & (dataframe['dropoff_latitude'] <= boundary[3])\n",
    "\n",
    "def not_at_airport(dataframe):\n",
    "    return ~((dataframe['pickup_to_jfk'] < 1) | (dataframe['dropoff_to_jfk'] < 1)) & \\\n",
    "            ~((dataframe['pickup_to_laguardia'] < 1) | (dataframe['dropoff_to_laguardia'] < 1))\n",
    "\n",
    "\n",
    "def has_passengers(dataframe):\n",
    "    return (dataframe['passenger_count'] != 0)\n",
    "    \n",
    "            "
   ]
  },
  {
   "cell_type": "markdown",
   "metadata": {},
   "source": [
    "## Import our dataset\n",
    "- our dataset consists of several files:\n",
    "    - train.csv: our training data\n",
    "    - test.csv: our testing data\n",
    "    - sample_submissions.csv: A sample submission file in the correct format (columns key and fare_amount). This dummy file 'predicts' fare_amount to be $11.35 for all rows, which is the mean fare_amount from the training set."
   ]
  },
  {
   "cell_type": "code",
   "execution_count": 2,
   "metadata": {},
   "outputs": [
    {
     "name": "stdout",
     "output_type": "stream",
     "text": [
      "Importing Datasets...\n",
      "1\n",
      "2\n",
      "3\n",
      "4\n",
      "5\n",
      "6\n",
      "7\n",
      "8\n",
      "9\n",
      "10\n",
      "11\n",
      "12\n",
      "13\n",
      "14\n",
      "15\n",
      "16\n",
      "17\n",
      "18\n",
      "19\n",
      "20\n",
      "21\n",
      "22\n",
      "23\n",
      "24\n",
      "25\n",
      "26\n",
      "27\n",
      "28\n",
      "29\n",
      "30\n",
      "31\n",
      "32\n",
      "33\n",
      "34\n",
      "35\n",
      "36\n",
      "37\n",
      "38\n",
      "39\n",
      "40\n",
      "41\n",
      "42\n",
      "43\n",
      "44\n",
      "45\n",
      "46\n",
      "47\n",
      "48\n",
      "49\n",
      "50\n",
      "51\n",
      "52\n",
      "53\n",
      "54\n",
      "55\n",
      "56\n"
     ]
    }
   ],
   "source": [
    "import pandas as pd\n",
    "import os\n",
    "import sys\n",
    "import random\n",
    "from sklearn.model_selection import train_test_split\n",
    "\n",
    "TOTAL_ROWS = 55423855\n",
    "\n",
    "DATA_FILES_PATH = 'projectDataFiles/'\n",
    "\n",
    "NYC_COORD = (40.7580, 73.9855)\n",
    "JFK_COORD = (40.6413, 73.7781)\n",
    "LAGUARDIA_COORD = (40.7769, 73.8740)\n",
    "\n",
    "# NYC Boundaries\n",
    "NYC_BOUNDARY = (-74.5, -72.8, 40.5, 41.8) # in format WEST, EAST, NORTH, SOUTH\n",
    "\n",
    "# training data types\n",
    "TRAINING_TYPES = {\n",
    "    'fare_amount': 'float32',\n",
    "    'pickup_datetime': 'str',\n",
    "    'pickup_longitude': 'float32',\n",
    "    'pickup_latitude': 'float32',\n",
    "    'dropoff_longitude': 'float32',\n",
    "    'dropoff_latitude': 'float32',\n",
    "    'passenger_count': 'uint8'\n",
    "}\n",
    "\n",
    "COLUMNS = list(TRAINING_TYPES.keys()) + ['real_dist']\n",
    "\n",
    "FEATURES = [item for item in COLUMNS if item != 'fare_amount']\n",
    "\n",
    "LABEL = 'fare_amount'\n",
    "\n",
    "def import_training_dataset_limit(file_path, row_limit=500):\n",
    "    \"\"\"\n",
    "    function to import the dataset into a pandas dataframe.\n",
    "\n",
    "    Takes a row limit to limit the number of rows read.\n",
    "    \"\"\"\n",
    "    if row_limit:\n",
    "        return process_df(pd.read_csv(file_path, nrows=row_limit))\n",
    "    else:\n",
    "        return process_df(pd.read_csv(file_path))\n",
    "\n",
    "\n",
    "def get_df_list(file_path, chunksize=1000000):\n",
    "    df_list = []\n",
    "    counter = 0\n",
    "    for df_chunk in pd.read_csv(file_path, chunksize=chunksize, dtype=TRAINING_TYPES):\n",
    "        counter += 1\n",
    "        print(counter)\n",
    "        df_chunk = process_df(df_chunk)\n",
    "        df_list.append(df_chunk)\n",
    "    return df_list\n",
    "        \n",
    "def process_df(dataframe, train_data=True):\n",
    "    pd.set_option('use_inf_as_na', True)\n",
    "    dataframe['pickup_datetime'] = dataframe['pickup_datetime'].str.slice(0, 16)\n",
    "    dataframe['pickup_datetime'] = pd.to_datetime(dataframe['pickup_datetime'], utc=True, format='%Y-%m-%d %H:%M')\n",
    "    # the distance between the pickup and dropoff points\n",
    "    dataframe['real_dist'] = haversine(dataframe['pickup_latitude'], dataframe['pickup_longitude'], dataframe['dropoff_latitude'], dataframe['dropoff_longitude'])\n",
    "\n",
    "    # add the deconstructed date\n",
    "    dataframe['hour'] = dataframe['pickup_datetime'].dt.hour\n",
    "    dataframe['day'] = dataframe['pickup_datetime'].dt.day\n",
    "    dataframe['month'] = dataframe['pickup_datetime'].dt.month\n",
    "    dataframe['year'] = dataframe['pickup_datetime'].dt.year\n",
    "    \n",
    "    add_year = pd.get_dummies(dataframe['year'], prefix='year')\n",
    "    \n",
    "    dataframe = pd.concat([dataframe, add_year], axis=1)\n",
    "    \n",
    "    # converting cyclical variables to sin / cos\n",
    "    dataframe['hour_sin'] = np.sin(dataframe['hour'] * ( 2 * np.pi / 24))\n",
    "    dataframe['hour_cos'] = np.cos(dataframe['hour'] * ( 2 * np.pi / 24))\n",
    "    dataframe['day_sin'] = np.sin(dataframe['day'] * ( 2 * np.pi / 7))\n",
    "    dataframe['day_cos'] = np.cos(dataframe['day'] * ( 2 * np.pi / 7))\n",
    "    dataframe['month_sin'] = np.sin((dataframe['month'] - 1) * (2 * np.pi / 12))\n",
    "    dataframe['month_cos'] = np.cos((dataframe['month'] - 1) * (2 * np.pi / 12))\n",
    "\n",
    "    # add the distances to the airports\n",
    "    dataframe['pickup_to_jfk'] = haversine(dataframe['pickup_latitude'], dataframe['pickup_longitude'], JFK_COORD[0], JFK_COORD[1])\n",
    "    dataframe['dropoff_to_jfk'] = haversine(dataframe['dropoff_latitude'], dataframe['dropoff_longitude'], JFK_COORD[0], JFK_COORD[1])\n",
    "    dataframe['pickup_to_laguardia'] = haversine(dataframe['pickup_latitude'], dataframe['pickup_longitude'], LAGUARDIA_COORD[0], LAGUARDIA_COORD[1])\n",
    "    dataframe['dropoff_to_laguardia'] = haversine(dataframe['dropoff_latitude'], dataframe['dropoff_longitude'], LAGUARDIA_COORD[0], LAGUARDIA_COORD[1])\n",
    "    \n",
    "    # distance from center of new york\n",
    "    dataframe['dropoff_from_center'] = haversine(dataframe['dropoff_latitude'], dataframe['dropoff_longitude'], NYC_COORD[0], NYC_COORD[1])\n",
    "    dataframe['pickup_from_center'] = haversine(dataframe['pickup_latitude'], dataframe['pickup_longitude'], NYC_COORD[0], NYC_COORD[1])\n",
    "        \n",
    "    # limit to the boundary\n",
    "    dataframe = dataframe[within_boundary(dataframe, NYC_BOUNDARY) & has_passengers(dataframe)].copy()\n",
    "\n",
    "    # drop uneccessary columns\n",
    "    dataframe.drop([\n",
    "        'key',\n",
    "        'pickup_datetime', \n",
    "        'pickup_longitude', \n",
    "        'pickup_latitude', \n",
    "        'dropoff_latitude', \n",
    "        'dropoff_longitude'\n",
    "    ], axis=1, inplace=True)\n",
    "    \n",
    "    dataframe.dropna(axis=1, how='any', inplace=True)\n",
    "    return dataframe\n",
    "\n",
    "def read_feathered_data(file_path):\n",
    "    return pd.read_feather(file_path)\n",
    "\n",
    "def feather_dataset(dataframe, file_out):\n",
    "    dataframe.to_feather(file_out)\n",
    "\n",
    "# import the dataset as a list of chunks, from here we can do our processing at a chunk level\n",
    "print('Importing Datasets...')\n",
    "DATA_LIST = get_df_list(f'{DATA_FILES_PATH}train.csv')\n",
    "\n",
    "train_split = int(len(DATA_LIST) * 0.8)\n",
    "\n",
    "random.shuffle(DATA_LIST)\n",
    "\n",
    "TRAINING_LIST = DATA_LIST[:train_split]\n",
    "\n",
    "TEST = pd.concat(DATA_LIST[train_split:])\n",
    "\n",
    "TRAINING_LIST[0].head()\n",
    "\n",
    "# # import the dataset for testing \n",
    "# DF = import_training_dataset_limit(f'{DATA_FILES_PATH}train.csv')\n",
    "\n",
    "# print(list(DF.columns))\n",
    "\n",
    "# DF.head()\n",
    "\n",
    "# TRAIN, TEST = train_test_split(DF, test_size=0.2)\n",
    "# TRAIN.head()\n",
    "\n",
    "FEATURES = [\n",
    "    #'hour',\n",
    "    'hour_cos',\n",
    "    'hour_sin',\n",
    "#     'month_cos',\n",
    "#     'month_sin',\n",
    "#     'day_cos',\n",
    "#     'day_sin',\n",
    "#     'year_2009',\n",
    "#     'year_2010',\n",
    "#     'year_2011',\n",
    "#     'year_2012', \n",
    "#     'year_2013',\n",
    "#     'year_2014',\n",
    "#     'year_2015',\n",
    "    'real_dist', \n",
    "#     'airport_True', \n",
    "#     'airport_False', \n",
    "    'pickup_from_center',\n",
    "    'dropoff_from_center',\n",
    "    'pickup_to_jfk',\n",
    "    'dropoff_to_jfk',\n",
    "    'pickup_to_laguardia',\n",
    "    'dropoff_to_laguardia'\n",
    "]"
   ]
  },
  {
   "cell_type": "code",
   "execution_count": 3,
   "metadata": {},
   "outputs": [
    {
     "data": {
      "text/html": [
       "<div>\n",
       "<style scoped>\n",
       "    .dataframe tbody tr th:only-of-type {\n",
       "        vertical-align: middle;\n",
       "    }\n",
       "\n",
       "    .dataframe tbody tr th {\n",
       "        vertical-align: top;\n",
       "    }\n",
       "\n",
       "    .dataframe thead th {\n",
       "        text-align: right;\n",
       "    }\n",
       "</style>\n",
       "<table border=\"1\" class=\"dataframe\">\n",
       "  <thead>\n",
       "    <tr style=\"text-align: right;\">\n",
       "      <th></th>\n",
       "      <th>fare_amount</th>\n",
       "      <th>passenger_count</th>\n",
       "      <th>real_dist</th>\n",
       "      <th>hour</th>\n",
       "      <th>day</th>\n",
       "      <th>month</th>\n",
       "      <th>year</th>\n",
       "      <th>year_2009</th>\n",
       "      <th>year_2010</th>\n",
       "      <th>year_2011</th>\n",
       "      <th>...</th>\n",
       "      <th>day_sin</th>\n",
       "      <th>day_cos</th>\n",
       "      <th>month_sin</th>\n",
       "      <th>month_cos</th>\n",
       "      <th>pickup_to_jfk</th>\n",
       "      <th>dropoff_to_jfk</th>\n",
       "      <th>pickup_to_laguardia</th>\n",
       "      <th>dropoff_to_laguardia</th>\n",
       "      <th>dropoff_from_center</th>\n",
       "      <th>pickup_from_center</th>\n",
       "    </tr>\n",
       "  </thead>\n",
       "  <tbody>\n",
       "    <tr>\n",
       "      <th>26000000</th>\n",
       "      <td>6.1</td>\n",
       "      <td>5</td>\n",
       "      <td>0.000000</td>\n",
       "      <td>17</td>\n",
       "      <td>16</td>\n",
       "      <td>7</td>\n",
       "      <td>2010</td>\n",
       "      <td>0</td>\n",
       "      <td>1</td>\n",
       "      <td>0</td>\n",
       "      <td>...</td>\n",
       "      <td>0.974928</td>\n",
       "      <td>-0.222521</td>\n",
       "      <td>1.224647e-16</td>\n",
       "      <td>-1.000000</td>\n",
       "      <td>14.438897</td>\n",
       "      <td>14.438897</td>\n",
       "      <td>5.032795</td>\n",
       "      <td>5.032795</td>\n",
       "      <td>2.582969</td>\n",
       "      <td>2.582969</td>\n",
       "    </tr>\n",
       "    <tr>\n",
       "      <th>26000001</th>\n",
       "      <td>10.5</td>\n",
       "      <td>2</td>\n",
       "      <td>1.150247</td>\n",
       "      <td>12</td>\n",
       "      <td>1</td>\n",
       "      <td>12</td>\n",
       "      <td>2012</td>\n",
       "      <td>0</td>\n",
       "      <td>0</td>\n",
       "      <td>0</td>\n",
       "      <td>...</td>\n",
       "      <td>0.781831</td>\n",
       "      <td>0.623490</td>\n",
       "      <td>-5.000000e-01</td>\n",
       "      <td>0.866025</td>\n",
       "      <td>13.098996</td>\n",
       "      <td>14.224301</td>\n",
       "      <td>4.442592</td>\n",
       "      <td>5.422725</td>\n",
       "      <td>1.648189</td>\n",
       "      <td>1.720899</td>\n",
       "    </tr>\n",
       "    <tr>\n",
       "      <th>26000002</th>\n",
       "      <td>10.5</td>\n",
       "      <td>1</td>\n",
       "      <td>1.274267</td>\n",
       "      <td>16</td>\n",
       "      <td>27</td>\n",
       "      <td>7</td>\n",
       "      <td>2010</td>\n",
       "      <td>0</td>\n",
       "      <td>1</td>\n",
       "      <td>0</td>\n",
       "      <td>...</td>\n",
       "      <td>-0.781831</td>\n",
       "      <td>0.623490</td>\n",
       "      <td>1.224647e-16</td>\n",
       "      <td>-1.000000</td>\n",
       "      <td>13.943068</td>\n",
       "      <td>13.067973</td>\n",
       "      <td>5.331753</td>\n",
       "      <td>5.418303</td>\n",
       "      <td>0.576971</td>\n",
       "      <td>1.364100</td>\n",
       "    </tr>\n",
       "    <tr>\n",
       "      <th>26000003</th>\n",
       "      <td>7.0</td>\n",
       "      <td>2</td>\n",
       "      <td>0.627191</td>\n",
       "      <td>19</td>\n",
       "      <td>12</td>\n",
       "      <td>9</td>\n",
       "      <td>2013</td>\n",
       "      <td>0</td>\n",
       "      <td>0</td>\n",
       "      <td>0</td>\n",
       "      <td>...</td>\n",
       "      <td>-0.974928</td>\n",
       "      <td>-0.222521</td>\n",
       "      <td>-8.660254e-01</td>\n",
       "      <td>-0.500000</td>\n",
       "      <td>12.602282</td>\n",
       "      <td>12.569995</td>\n",
       "      <td>7.214670</td>\n",
       "      <td>6.668413</td>\n",
       "      <td>1.830793</td>\n",
       "      <td>2.396078</td>\n",
       "    </tr>\n",
       "    <tr>\n",
       "      <th>26000004</th>\n",
       "      <td>7.3</td>\n",
       "      <td>2</td>\n",
       "      <td>1.411158</td>\n",
       "      <td>12</td>\n",
       "      <td>9</td>\n",
       "      <td>5</td>\n",
       "      <td>2010</td>\n",
       "      <td>0</td>\n",
       "      <td>1</td>\n",
       "      <td>0</td>\n",
       "      <td>...</td>\n",
       "      <td>0.974928</td>\n",
       "      <td>-0.222521</td>\n",
       "      <td>8.660254e-01</td>\n",
       "      <td>-0.500000</td>\n",
       "      <td>13.980104</td>\n",
       "      <td>13.622416</td>\n",
       "      <td>5.845469</td>\n",
       "      <td>6.606606</td>\n",
       "      <td>0.751696</td>\n",
       "      <td>0.754516</td>\n",
       "    </tr>\n",
       "  </tbody>\n",
       "</table>\n",
       "<p>5 rows × 26 columns</p>\n",
       "</div>"
      ],
      "text/plain": [
       "          fare_amount  passenger_count  real_dist  hour  day  month  year  \\\n",
       "26000000          6.1                5   0.000000    17   16      7  2010   \n",
       "26000001         10.5                2   1.150247    12    1     12  2012   \n",
       "26000002         10.5                1   1.274267    16   27      7  2010   \n",
       "26000003          7.0                2   0.627191    19   12      9  2013   \n",
       "26000004          7.3                2   1.411158    12    9      5  2010   \n",
       "\n",
       "          year_2009  year_2010  year_2011  ...   day_sin   day_cos  \\\n",
       "26000000          0          1          0  ...  0.974928 -0.222521   \n",
       "26000001          0          0          0  ...  0.781831  0.623490   \n",
       "26000002          0          1          0  ... -0.781831  0.623490   \n",
       "26000003          0          0          0  ... -0.974928 -0.222521   \n",
       "26000004          0          1          0  ...  0.974928 -0.222521   \n",
       "\n",
       "             month_sin  month_cos  pickup_to_jfk  dropoff_to_jfk  \\\n",
       "26000000  1.224647e-16  -1.000000      14.438897       14.438897   \n",
       "26000001 -5.000000e-01   0.866025      13.098996       14.224301   \n",
       "26000002  1.224647e-16  -1.000000      13.943068       13.067973   \n",
       "26000003 -8.660254e-01  -0.500000      12.602282       12.569995   \n",
       "26000004  8.660254e-01  -0.500000      13.980104       13.622416   \n",
       "\n",
       "          pickup_to_laguardia  dropoff_to_laguardia  dropoff_from_center  \\\n",
       "26000000             5.032795              5.032795             2.582969   \n",
       "26000001             4.442592              5.422725             1.648189   \n",
       "26000002             5.331753              5.418303             0.576971   \n",
       "26000003             7.214670              6.668413             1.830793   \n",
       "26000004             5.845469              6.606606             0.751696   \n",
       "\n",
       "          pickup_from_center  \n",
       "26000000            2.582969  \n",
       "26000001            1.720899  \n",
       "26000002            1.364100  \n",
       "26000003            2.396078  \n",
       "26000004            0.754516  \n",
       "\n",
       "[5 rows x 26 columns]"
      ]
     },
     "execution_count": 3,
     "metadata": {},
     "output_type": "execute_result"
    }
   ],
   "source": [
    "TEST.head()"
   ]
  },
  {
   "cell_type": "markdown",
   "metadata": {},
   "source": [
    "## Perform a SGD partial fit\n",
    "- SGD stands for stochastic gradient descent\n",
    "- Here we are feeding our chunks into the partial fit"
   ]
  },
  {
   "cell_type": "code",
   "execution_count": 4,
   "metadata": {},
   "outputs": [
    {
     "name": "stdout",
     "output_type": "stream",
     "text": [
      "Getting SGD predictions...\n"
     ]
    }
   ],
   "source": [
    "from sklearn.linear_model import SGDRegressor\n",
    "from sklearn.preprocessing import StandardScaler\n",
    "\n",
    "def sgd_train(chunk_list, loss=\"squared_loss\"):\n",
    "    my_sgd_regressor = SGDRegressor(loss=loss, random_state=5)\n",
    "    my_sgd_regressor.n_iter = np.ceil(10**6 / len(TEST[LABEL]))\n",
    "    scaler = StandardScaler()\n",
    "    for chunk in chunk_list:\n",
    "        X_train = chunk[FEATURES]\n",
    "        scaler.fit(X_train)\n",
    "        my_sgd_regressor.partial_fit(scaler.transform(X_train), chunk[LABEL])\n",
    "    X_test = TEST[FEATURES]\n",
    "    y_predict = my_sgd_regressor.predict(scaler.transform(X_test))\n",
    "    return y_predict\n",
    "\n",
    "print('Getting SGD predictions...')\n",
    "Y_PREDICT_SGD = sgd_train(TRAINING_LIST)\n",
    "# Y_PREDICT_SGD = sgd_train([TRAIN])"
   ]
  },
  {
   "cell_type": "code",
   "execution_count": 5,
   "metadata": {},
   "outputs": [
    {
     "name": "stdout",
     "output_type": "stream",
     "text": [
      "Getting RF Predictions...\n"
     ]
    },
    {
     "name": "stderr",
     "output_type": "stream",
     "text": [
      "[Parallel(n_jobs=-1)]: Using backend ThreadingBackend with 8 concurrent workers.\n"
     ]
    },
    {
     "name": "stdout",
     "output_type": "stream",
     "text": [
      "building tree 1 of 1\n"
     ]
    },
    {
     "name": "stderr",
     "output_type": "stream",
     "text": [
      "[Parallel(n_jobs=-1)]: Done   1 out of   1 | elapsed:   13.5s finished\n",
      "[Parallel(n_jobs=-1)]: Using backend ThreadingBackend with 8 concurrent workers.\n"
     ]
    },
    {
     "name": "stdout",
     "output_type": "stream",
     "text": [
      "building tree 1 of 2building tree 2 of 2\n",
      "\n"
     ]
    },
    {
     "name": "stderr",
     "output_type": "stream",
     "text": [
      "[Parallel(n_jobs=-1)]: Done   2 out of   2 | elapsed:   14.4s finished\n",
      "[Parallel(n_jobs=-1)]: Using backend ThreadingBackend with 8 concurrent workers.\n"
     ]
    },
    {
     "name": "stdout",
     "output_type": "stream",
     "text": [
      "building tree 1 of 3\n",
      "building tree 2 of 3building tree 3 of 3\n",
      "\n"
     ]
    },
    {
     "name": "stderr",
     "output_type": "stream",
     "text": [
      "[Parallel(n_jobs=-1)]: Done   3 out of   3 | elapsed:   15.2s finished\n",
      "[Parallel(n_jobs=-1)]: Using backend ThreadingBackend with 8 concurrent workers.\n"
     ]
    },
    {
     "name": "stdout",
     "output_type": "stream",
     "text": [
      "building tree 1 of 4\n",
      "building tree 2 of 4\n",
      "building tree 3 of 4\n",
      "building tree 4 of 4\n"
     ]
    },
    {
     "name": "stderr",
     "output_type": "stream",
     "text": [
      "[Parallel(n_jobs=-1)]: Done   4 out of   4 | elapsed:   16.4s remaining:    0.0s\n",
      "[Parallel(n_jobs=-1)]: Done   4 out of   4 | elapsed:   16.4s finished\n",
      "[Parallel(n_jobs=-1)]: Using backend ThreadingBackend with 8 concurrent workers.\n"
     ]
    },
    {
     "name": "stdout",
     "output_type": "stream",
     "text": [
      "building tree 1 of 5\n",
      "building tree 2 of 5building tree 3 of 5\n",
      "building tree 4 of 5\n",
      "building tree 5 of 5\n",
      "\n"
     ]
    },
    {
     "name": "stderr",
     "output_type": "stream",
     "text": [
      "[Parallel(n_jobs=-1)]: Done   2 out of   5 | elapsed:   19.2s remaining:   28.8s\n",
      "[Parallel(n_jobs=-1)]: Done   5 out of   5 | elapsed:   19.6s remaining:    0.0s\n",
      "[Parallel(n_jobs=-1)]: Done   5 out of   5 | elapsed:   19.6s finished\n",
      "[Parallel(n_jobs=-1)]: Using backend ThreadingBackend with 8 concurrent workers.\n"
     ]
    },
    {
     "name": "stdout",
     "output_type": "stream",
     "text": [
      "building tree 1 of 6\n",
      "building tree 2 of 6building tree 3 of 6\n",
      "building tree 4 of 6\n",
      "building tree 5 of 6building tree 6 of 6\n",
      "\n",
      "\n"
     ]
    },
    {
     "name": "stderr",
     "output_type": "stream",
     "text": [
      "[Parallel(n_jobs=-1)]: Done   3 out of   6 | elapsed:   22.0s remaining:   22.0s\n",
      "[Parallel(n_jobs=-1)]: Done   6 out of   6 | elapsed:   22.0s finished\n",
      "[Parallel(n_jobs=-1)]: Using backend ThreadingBackend with 8 concurrent workers.\n"
     ]
    },
    {
     "name": "stdout",
     "output_type": "stream",
     "text": [
      "building tree 1 of 7building tree 2 of 7\n",
      "building tree 3 of 7\n",
      "building tree 4 of 7\n",
      "building tree 5 of 7\n",
      "building tree 6 of 7\n",
      "building tree 7 of 7\n",
      "\n"
     ]
    },
    {
     "name": "stderr",
     "output_type": "stream",
     "text": [
      "[Parallel(n_jobs=-1)]: Done   4 out of   7 | elapsed:   23.1s remaining:   17.3s\n",
      "[Parallel(n_jobs=-1)]: Done   7 out of   7 | elapsed:   23.5s finished\n",
      "[Parallel(n_jobs=-1)]: Using backend ThreadingBackend with 8 concurrent workers.\n"
     ]
    },
    {
     "name": "stdout",
     "output_type": "stream",
     "text": [
      "building tree 1 of 8\n",
      "building tree 2 of 8building tree 3 of 8\n",
      "building tree 4 of 8\n",
      "\n",
      "building tree 5 of 8building tree 6 of 8\n",
      "building tree 7 of 8\n",
      "building tree 8 of 8\n",
      "\n"
     ]
    },
    {
     "name": "stderr",
     "output_type": "stream",
     "text": [
      "[Parallel(n_jobs=-1)]: Done   3 out of   8 | elapsed:   26.9s remaining:   44.9s\n",
      "[Parallel(n_jobs=-1)]: Done   8 out of   8 | elapsed:   27.8s remaining:    0.0s\n",
      "[Parallel(n_jobs=-1)]: Done   8 out of   8 | elapsed:   27.8s finished\n",
      "[Parallel(n_jobs=-1)]: Using backend ThreadingBackend with 8 concurrent workers.\n"
     ]
    },
    {
     "name": "stdout",
     "output_type": "stream",
     "text": [
      "building tree 1 of 9\n",
      "building tree 2 of 9\n",
      "building tree 3 of 9\n",
      "building tree 4 of 9building tree 5 of 9\n",
      "\n",
      "building tree 6 of 9building tree 7 of 9\n",
      "building tree 8 of 9\n",
      "\n",
      "building tree 9 of 9\n"
     ]
    },
    {
     "name": "stderr",
     "output_type": "stream",
     "text": [
      "[Parallel(n_jobs=-1)]: Done   4 out of   9 | elapsed:   32.1s remaining:   40.2s\n",
      "[Parallel(n_jobs=-1)]: Done   9 out of   9 | elapsed:   46.4s remaining:    0.0s\n",
      "[Parallel(n_jobs=-1)]: Done   9 out of   9 | elapsed:   46.4s finished\n",
      "[Parallel(n_jobs=-1)]: Using backend ThreadingBackend with 8 concurrent workers.\n"
     ]
    },
    {
     "name": "stdout",
     "output_type": "stream",
     "text": [
      "building tree 1 of 10building tree 2 of 10\n",
      "\n",
      "building tree 3 of 10building tree 4 of 10\n",
      "building tree 5 of 10\n",
      "building tree 6 of 10\n",
      "\n",
      "building tree 7 of 10\n",
      "building tree 8 of 10\n",
      "building tree 9 of 10\n",
      "building tree 10 of 10\n"
     ]
    },
    {
     "name": "stderr",
     "output_type": "stream",
     "text": [
      "[Parallel(n_jobs=-1)]: Done   7 out of  10 | elapsed:   27.9s remaining:   11.9s\n",
      "[Parallel(n_jobs=-1)]: Done  10 out of  10 | elapsed:   41.3s finished\n",
      "[Parallel(n_jobs=-1)]: Using backend ThreadingBackend with 8 concurrent workers.\n"
     ]
    },
    {
     "name": "stdout",
     "output_type": "stream",
     "text": [
      "building tree 1 of 11\n",
      "building tree 2 of 11\n",
      "building tree 3 of 11\n",
      "building tree 4 of 11building tree 5 of 11\n",
      "building tree 6 of 11\n",
      "building tree 7 of 11\n",
      "building tree 8 of 11\n",
      "\n",
      "building tree 9 of 11\n",
      "building tree 10 of 11\n"
     ]
    },
    {
     "name": "stderr",
     "output_type": "stream",
     "text": [
      "[Parallel(n_jobs=-1)]: Done   2 out of  11 | elapsed:   28.1s remaining:  2.1min\n"
     ]
    },
    {
     "name": "stdout",
     "output_type": "stream",
     "text": [
      "building tree 11 of 11\n"
     ]
    },
    {
     "name": "stderr",
     "output_type": "stream",
     "text": [
      "[Parallel(n_jobs=-1)]: Done   8 out of  11 | elapsed:   29.7s remaining:   11.1s\n",
      "[Parallel(n_jobs=-1)]: Done  11 out of  11 | elapsed:   45.1s finished\n",
      "[Parallel(n_jobs=-1)]: Using backend ThreadingBackend with 8 concurrent workers.\n"
     ]
    },
    {
     "name": "stdout",
     "output_type": "stream",
     "text": [
      "building tree 1 of 12building tree 2 of 12\n",
      "\n",
      "building tree 3 of 12building tree 4 of 12\n",
      "building tree 5 of 12building tree 6 of 12\n",
      "building tree 7 of 12\n",
      "building tree 8 of 12\n",
      "\n",
      "\n",
      "building tree 9 of 12\n",
      "building tree 10 of 12\n",
      "building tree 11 of 12\n",
      "building tree 12 of 12\n"
     ]
    },
    {
     "name": "stderr",
     "output_type": "stream",
     "text": [
      "[Parallel(n_jobs=-1)]: Done   4 out of  12 | elapsed:   25.4s remaining:   50.9s\n",
      "[Parallel(n_jobs=-1)]: Done  12 out of  12 | elapsed:   41.2s finished\n",
      "[Parallel(n_jobs=-1)]: Using backend ThreadingBackend with 8 concurrent workers.\n"
     ]
    },
    {
     "name": "stdout",
     "output_type": "stream",
     "text": [
      "building tree 1 of 13\n",
      "building tree 2 of 13\n",
      "building tree 3 of 13\n",
      "building tree 4 of 13\n",
      "building tree 5 of 13\n",
      "building tree 6 of 13building tree 7 of 13\n",
      "building tree 8 of 13\n",
      "\n",
      "building tree 9 of 13\n",
      "building tree 10 of 13\n",
      "building tree 11 of 13\n",
      "building tree 12 of 13\n",
      "building tree 13 of 13\n"
     ]
    },
    {
     "name": "stderr",
     "output_type": "stream",
     "text": [
      "[Parallel(n_jobs=-1)]: Done   5 out of  13 | elapsed:   25.1s remaining:   40.1s\n",
      "[Parallel(n_jobs=-1)]: Done  13 out of  13 | elapsed:   44.1s finished\n",
      "[Parallel(n_jobs=-1)]: Using backend ThreadingBackend with 8 concurrent workers.\n"
     ]
    },
    {
     "name": "stdout",
     "output_type": "stream",
     "text": [
      "building tree 1 of 14building tree 2 of 14\n",
      "\n",
      "building tree 3 of 14\n",
      "building tree 4 of 14building tree 5 of 14\n",
      "\n",
      "building tree 6 of 14\n",
      "building tree 7 of 14\n",
      "building tree 8 of 14\n",
      "building tree 9 of 14\n",
      "building tree 10 of 14\n",
      "building tree 11 of 14\n",
      "building tree 12 of 14\n",
      "building tree 13 of 14\n",
      "building tree 14 of 14\n"
     ]
    },
    {
     "name": "stderr",
     "output_type": "stream",
     "text": [
      "[Parallel(n_jobs=-1)]: Done   7 out of  14 | elapsed:   27.4s remaining:   27.4s\n",
      "[Parallel(n_jobs=-1)]: Done  14 out of  14 | elapsed:   46.1s finished\n",
      "[Parallel(n_jobs=-1)]: Using backend ThreadingBackend with 8 concurrent workers.\n"
     ]
    },
    {
     "name": "stdout",
     "output_type": "stream",
     "text": [
      "building tree 1 of 15building tree 2 of 15\n",
      "\n",
      "building tree 3 of 15\n",
      "building tree 4 of 15\n",
      "building tree 5 of 15building tree 6 of 15\n",
      "building tree 7 of 15\n",
      "building tree 8 of 15\n",
      "\n",
      "building tree 9 of 15\n",
      "building tree 10 of 15\n",
      "building tree 11 of 15\n",
      "building tree 12 of 15\n",
      "building tree 13 of 15\n",
      "building tree 14 of 15\n",
      "building tree 15 of 15\n"
     ]
    },
    {
     "name": "stderr",
     "output_type": "stream",
     "text": [
      "[Parallel(n_jobs=-1)]: Done   8 out of  15 | elapsed:   25.6s remaining:   22.4s\n",
      "[Parallel(n_jobs=-1)]: Done  15 out of  15 | elapsed:   49.9s finished\n",
      "[Parallel(n_jobs=-1)]: Using backend ThreadingBackend with 8 concurrent workers.\n"
     ]
    },
    {
     "name": "stdout",
     "output_type": "stream",
     "text": [
      "building tree 1 of 16building tree 2 of 16building tree 3 of 16\n",
      "building tree 4 of 16\n",
      "\n",
      "building tree 5 of 16\n",
      "building tree 6 of 16\n",
      "building tree 7 of 16\n",
      "building tree 8 of 16\n",
      "\n",
      "building tree 9 of 16\n",
      "building tree 10 of 16\n",
      "building tree 11 of 16\n",
      "building tree 12 of 16\n",
      "building tree 13 of 16\n",
      "building tree 14 of 16\n",
      "building tree 15 of 16\n",
      "building tree 16 of 16\n"
     ]
    },
    {
     "name": "stderr",
     "output_type": "stream",
     "text": [
      "[Parallel(n_jobs=-1)]: Done  10 out of  16 | elapsed:   52.5s remaining:   31.5s\n",
      "[Parallel(n_jobs=-1)]: Done  16 out of  16 | elapsed:   54.1s finished\n",
      "[Parallel(n_jobs=-1)]: Using backend ThreadingBackend with 8 concurrent workers.\n"
     ]
    },
    {
     "name": "stdout",
     "output_type": "stream",
     "text": [
      "building tree 1 of 17\n",
      "building tree 2 of 17building tree 3 of 17\n",
      "building tree 4 of 17\n",
      "building tree 5 of 17\n",
      "building tree 6 of 17\n",
      "building tree 7 of 17\n",
      "building tree 8 of 17\n",
      "\n",
      "building tree 9 of 17\n",
      "building tree 10 of 17\n",
      "building tree 11 of 17\n",
      "building tree 12 of 17\n",
      "building tree 13 of 17\n",
      "building tree 14 of 17\n",
      "building tree 15 of 17\n",
      "building tree 16 of 17\n",
      "building tree 17 of 17\n"
     ]
    },
    {
     "name": "stderr",
     "output_type": "stream",
     "text": [
      "[Parallel(n_jobs=-1)]: Done  11 out of  17 | elapsed:   52.5s remaining:   28.6s\n",
      "[Parallel(n_jobs=-1)]: Done  17 out of  17 | elapsed:  1.1min finished\n",
      "[Parallel(n_jobs=-1)]: Using backend ThreadingBackend with 8 concurrent workers.\n"
     ]
    },
    {
     "name": "stdout",
     "output_type": "stream",
     "text": [
      "building tree 1 of 18\n",
      "building tree 2 of 18building tree 3 of 18\n",
      "building tree 4 of 18\n",
      "building tree 5 of 18\n",
      "building tree 6 of 18\n",
      "building tree 7 of 18\n",
      "building tree 8 of 18\n",
      "\n",
      "building tree 9 of 18\n",
      "building tree 10 of 18\n",
      "building tree 11 of 18\n",
      "building tree 12 of 18\n",
      "building tree 13 of 18\n",
      "building tree 14 of 18\n",
      "building tree 15 of 18\n",
      "building tree 16 of 18\n",
      "building tree 17 of 18\n",
      "building tree 18 of 18\n"
     ]
    },
    {
     "name": "stderr",
     "output_type": "stream",
     "text": [
      "[Parallel(n_jobs=-1)]: Done  13 out of  18 | elapsed:   51.5s remaining:   19.8s\n",
      "[Parallel(n_jobs=-1)]: Done  18 out of  18 | elapsed:  1.1min finished\n",
      "[Parallel(n_jobs=-1)]: Using backend ThreadingBackend with 8 concurrent workers.\n"
     ]
    },
    {
     "name": "stdout",
     "output_type": "stream",
     "text": [
      "building tree 1 of 19building tree 2 of 19\n",
      "building tree 3 of 19\n",
      "building tree 4 of 19building tree 5 of 19\n",
      "\n",
      "\n",
      "building tree 6 of 19building tree 7 of 19\n",
      "\n",
      "building tree 8 of 19\n",
      "building tree 9 of 19\n",
      "building tree 10 of 19\n",
      "building tree 11 of 19\n",
      "building tree 12 of 19\n",
      "building tree 13 of 19\n",
      "building tree 14 of 19\n",
      "building tree 15 of 19\n",
      "building tree 16 of 19\n",
      "building tree 17 of 19\n",
      "building tree 18 of 19\n",
      "building tree 19 of 19\n"
     ]
    },
    {
     "name": "stderr",
     "output_type": "stream",
     "text": [
      "[Parallel(n_jobs=-1)]: Done  14 out of  19 | elapsed:   17.2s remaining:    6.1s\n",
      "[Parallel(n_jobs=-1)]: Done  19 out of  19 | elapsed:   22.2s finished\n",
      "[Parallel(n_jobs=-1)]: Using backend ThreadingBackend with 8 concurrent workers.\n"
     ]
    },
    {
     "name": "stdout",
     "output_type": "stream",
     "text": [
      "building tree 1 of 20building tree 2 of 20\n",
      "\n",
      "building tree 3 of 20\n",
      "building tree 4 of 20\n",
      "building tree 5 of 20building tree 6 of 20\n",
      "\n",
      "building tree 7 of 20building tree 8 of 20\n",
      "\n",
      "building tree 9 of 20\n",
      "building tree 10 of 20\n",
      "building tree 11 of 20\n",
      "building tree 12 of 20\n",
      "building tree 13 of 20\n",
      "building tree 14 of 20\n",
      "building tree 15 of 20\n",
      "building tree 16 of 20\n",
      "building tree 17 of 20\n",
      "building tree 18 of 20\n",
      "building tree 19 of 20\n",
      "building tree 20 of 20\n"
     ]
    },
    {
     "name": "stderr",
     "output_type": "stream",
     "text": [
      "[Parallel(n_jobs=-1)]: Done  16 out of  20 | elapsed:   54.9s remaining:   13.7s\n",
      "[Parallel(n_jobs=-1)]: Done  20 out of  20 | elapsed:  1.2min finished\n",
      "[Parallel(n_jobs=-1)]: Using backend ThreadingBackend with 8 concurrent workers.\n"
     ]
    },
    {
     "name": "stdout",
     "output_type": "stream",
     "text": [
      "building tree 1 of 21building tree 2 of 21\n",
      "building tree 3 of 21\n",
      "building tree 4 of 21\n",
      "building tree 5 of 21\n",
      "building tree 6 of 21\n",
      "building tree 7 of 21\n",
      "building tree 8 of 21\n",
      "\n",
      "building tree 9 of 21\n",
      "building tree 10 of 21\n",
      "building tree 11 of 21\n",
      "building tree 12 of 21\n",
      "building tree 13 of 21\n",
      "building tree 14 of 21\n",
      "building tree 15 of 21\n",
      "building tree 16 of 21\n",
      "building tree 17 of 21\n",
      "building tree 18 of 21\n",
      "building tree 19 of 21\n",
      "building tree 20 of 21\n",
      "building tree 21 of 21\n"
     ]
    },
    {
     "name": "stderr",
     "output_type": "stream",
     "text": [
      "[Parallel(n_jobs=-1)]: Done  17 out of  21 | elapsed:  1.2min remaining:   16.5s\n",
      "[Parallel(n_jobs=-1)]: Done  21 out of  21 | elapsed:  1.2min finished\n",
      "[Parallel(n_jobs=-1)]: Using backend ThreadingBackend with 8 concurrent workers.\n"
     ]
    },
    {
     "name": "stdout",
     "output_type": "stream",
     "text": [
      "building tree 1 of 22building tree 2 of 22\n",
      "\n",
      "building tree 3 of 22\n",
      "building tree 4 of 22\n",
      "building tree 5 of 22building tree 6 of 22\n",
      "building tree 7 of 22\n",
      "building tree 8 of 22\n",
      "\n",
      "building tree 9 of 22\n",
      "building tree 10 of 22\n",
      "building tree 11 of 22\n",
      "building tree 12 of 22\n",
      "building tree 13 of 22\n",
      "building tree 14 of 22\n",
      "building tree 15 of 22\n",
      "building tree 16 of 22\n",
      "building tree 17 of 22\n",
      "building tree 18 of 22\n",
      "building tree 19 of 22\n",
      "building tree 20 of 22\n",
      "building tree 21 of 22\n",
      "building tree 22 of 22\n"
     ]
    },
    {
     "name": "stderr",
     "output_type": "stream",
     "text": [
      "[Parallel(n_jobs=-1)]: Done  19 out of  22 | elapsed:  1.2min remaining:   11.8s\n",
      "[Parallel(n_jobs=-1)]: Done  22 out of  22 | elapsed:  1.2min finished\n",
      "[Parallel(n_jobs=-1)]: Using backend ThreadingBackend with 8 concurrent workers.\n"
     ]
    },
    {
     "name": "stdout",
     "output_type": "stream",
     "text": [
      "building tree 1 of 23building tree 2 of 23\n",
      "building tree 3 of 23\n",
      "building tree 4 of 23\n",
      "building tree 5 of 23\n",
      "\n",
      "building tree 6 of 23building tree 7 of 23\n",
      "building tree 8 of 23\n",
      "\n",
      "building tree 9 of 23\n",
      "building tree 10 of 23\n",
      "building tree 11 of 23\n",
      "building tree 12 of 23\n",
      "building tree 13 of 23\n",
      "building tree 14 of 23\n",
      "building tree 15 of 23\n",
      "building tree 16 of 23\n",
      "building tree 17 of 23\n",
      "building tree 18 of 23\n",
      "building tree 19 of 23\n",
      "building tree 20 of 23\n",
      "building tree 21 of 23\n",
      "building tree 22 of 23\n",
      "building tree 23 of 23\n"
     ]
    },
    {
     "name": "stderr",
     "output_type": "stream",
     "text": [
      "[Parallel(n_jobs=-1)]: Done  20 out of  23 | elapsed:  1.2min remaining:   11.1s\n",
      "[Parallel(n_jobs=-1)]: Done  23 out of  23 | elapsed:  1.2min finished\n",
      "[Parallel(n_jobs=-1)]: Using backend ThreadingBackend with 8 concurrent workers.\n"
     ]
    },
    {
     "name": "stdout",
     "output_type": "stream",
     "text": [
      "building tree 1 of 24\n",
      "building tree 2 of 24\n",
      "building tree 3 of 24\n",
      "building tree 4 of 24\n",
      "building tree 5 of 24\n",
      "building tree 6 of 24\n",
      "building tree 7 of 24\n",
      "building tree 8 of 24\n",
      "building tree 9 of 24\n",
      "building tree 10 of 24\n",
      "building tree 11 of 24\n",
      "building tree 12 of 24\n",
      "building tree 13 of 24\n",
      "building tree 14 of 24\n",
      "building tree 15 of 24\n",
      "building tree 16 of 24\n",
      "building tree 17 of 24\n",
      "building tree 18 of 24\n",
      "building tree 19 of 24\n",
      "building tree 20 of 24\n",
      "building tree 21 of 24\n",
      "building tree 22 of 24\n",
      "building tree 23 of 24\n",
      "building tree 24 of 24\n"
     ]
    },
    {
     "name": "stderr",
     "output_type": "stream",
     "text": [
      "[Parallel(n_jobs=-1)]: Done  22 out of  24 | elapsed:  1.3min remaining:    7.3s\n",
      "[Parallel(n_jobs=-1)]: Done  24 out of  24 | elapsed:  1.4min finished\n",
      "[Parallel(n_jobs=-1)]: Using backend ThreadingBackend with 8 concurrent workers.\n"
     ]
    },
    {
     "name": "stdout",
     "output_type": "stream",
     "text": [
      "building tree 1 of 25\n",
      "building tree 2 of 25\n",
      "building tree 3 of 25\n",
      "building tree 4 of 25building tree 5 of 25\n",
      "building tree 6 of 25\n",
      "building tree 7 of 25\n",
      "\n",
      "building tree 8 of 25\n",
      "building tree 9 of 25\n",
      "building tree 10 of 25\n",
      "building tree 11 of 25\n",
      "building tree 12 of 25\n",
      "building tree 13 of 25\n",
      "building tree 14 of 25\n",
      "building tree 15 of 25\n",
      "building tree 16 of 25\n",
      "building tree 17 of 25\n",
      "building tree 18 of 25\n",
      "building tree 19 of 25\n",
      "building tree 20 of 25\n",
      "building tree 21 of 25\n",
      "building tree 22 of 25\n",
      "building tree 23 of 25\n",
      "building tree 24 of 25\n",
      "building tree 25 of 25\n"
     ]
    },
    {
     "name": "stderr",
     "output_type": "stream",
     "text": [
      "[Parallel(n_jobs=-1)]: Done  23 out of  25 | elapsed:  1.3min remaining:    6.9s\n",
      "[Parallel(n_jobs=-1)]: Done  25 out of  25 | elapsed:  1.5min finished\n",
      "[Parallel(n_jobs=-1)]: Using backend ThreadingBackend with 8 concurrent workers.\n"
     ]
    },
    {
     "name": "stdout",
     "output_type": "stream",
     "text": [
      "building tree 1 of 26building tree 2 of 26\n",
      "building tree 3 of 26\n",
      "building tree 4 of 26\n",
      "building tree 5 of 26\n",
      "building tree 6 of 26\n",
      "building tree 7 of 26\n",
      "building tree 8 of 26\n",
      "\n",
      "building tree 9 of 26\n",
      "building tree 10 of 26\n",
      "building tree 11 of 26\n",
      "building tree 12 of 26\n",
      "building tree 13 of 26\n",
      "building tree 14 of 26\n",
      "building tree 15 of 26\n",
      "building tree 16 of 26\n",
      "building tree 17 of 26\n",
      "building tree 18 of 26\n",
      "building tree 19 of 26\n",
      "building tree 20 of 26\n",
      "building tree 21 of 26\n",
      "building tree 22 of 26\n",
      "building tree 23 of 26\n",
      "building tree 24 of 26\n",
      "building tree 25 of 26\n",
      "building tree 26 of 26\n"
     ]
    },
    {
     "name": "stderr",
     "output_type": "stream",
     "text": [
      "[Parallel(n_jobs=-1)]: Done  26 out of  26 | elapsed:  1.6min finished\n",
      "[Parallel(n_jobs=-1)]: Using backend ThreadingBackend with 8 concurrent workers.\n"
     ]
    },
    {
     "name": "stdout",
     "output_type": "stream",
     "text": [
      "building tree 1 of 27\n",
      "building tree 2 of 27\n",
      "building tree 3 of 27building tree 4 of 27\n",
      "building tree 5 of 27building tree 6 of 27\n",
      "building tree 7 of 27\n",
      "\n",
      "\n",
      "building tree 8 of 27\n",
      "building tree 9 of 27\n",
      "building tree 10 of 27\n",
      "building tree 11 of 27\n",
      "building tree 12 of 27\n",
      "building tree 13 of 27\n",
      "building tree 14 of 27\n",
      "building tree 15 of 27\n",
      "building tree 16 of 27\n",
      "building tree 17 of 27\n",
      "building tree 18 of 27\n",
      "building tree 19 of 27\n",
      "building tree 20 of 27\n",
      "building tree 21 of 27\n",
      "building tree 22 of 27\n",
      "building tree 23 of 27\n",
      "building tree 24 of 27\n",
      "building tree 25 of 27\n",
      "building tree 26 of 27\n",
      "building tree 27 of 27\n"
     ]
    },
    {
     "name": "stderr",
     "output_type": "stream",
     "text": [
      "[Parallel(n_jobs=-1)]: Done  27 out of  27 | elapsed:  1.5min finished\n",
      "[Parallel(n_jobs=-1)]: Using backend ThreadingBackend with 8 concurrent workers.\n"
     ]
    },
    {
     "name": "stdout",
     "output_type": "stream",
     "text": [
      "building tree 1 of 28building tree 2 of 28\n",
      "\n",
      "building tree 3 of 28\n",
      "building tree 4 of 28\n",
      "building tree 5 of 28building tree 6 of 28\n",
      "\n",
      "building tree 7 of 28building tree 8 of 28\n",
      "\n",
      "building tree 9 of 28\n",
      "building tree 10 of 28\n",
      "building tree 11 of 28\n",
      "building tree 12 of 28\n",
      "building tree 13 of 28\n",
      "building tree 14 of 28\n",
      "building tree 15 of 28\n",
      "building tree 16 of 28\n",
      "building tree 17 of 28\n",
      "building tree 18 of 28\n",
      "building tree 19 of 28\n",
      "building tree 20 of 28\n",
      "building tree 21 of 28\n",
      "building tree 22 of 28\n",
      "building tree 23 of 28\n",
      "building tree 24 of 28\n",
      "building tree 25 of 28\n",
      "building tree 26 of 28\n",
      "building tree 27 of 28\n",
      "building tree 28 of 28\n"
     ]
    },
    {
     "name": "stderr",
     "output_type": "stream",
     "text": [
      "[Parallel(n_jobs=-1)]: Done  28 out of  28 | elapsed:  1.5min remaining:    0.0s\n",
      "[Parallel(n_jobs=-1)]: Done  28 out of  28 | elapsed:  1.5min finished\n",
      "[Parallel(n_jobs=-1)]: Using backend ThreadingBackend with 8 concurrent workers.\n"
     ]
    },
    {
     "name": "stdout",
     "output_type": "stream",
     "text": [
      "building tree 1 of 29\n",
      "building tree 2 of 29\n",
      "building tree 3 of 29building tree 4 of 29\n",
      "\n",
      "building tree 5 of 29building tree 6 of 29\n",
      "building tree 7 of 29\n",
      "building tree 8 of 29\n",
      "\n",
      "building tree 9 of 29\n",
      "building tree 10 of 29\n",
      "building tree 11 of 29\n",
      "building tree 12 of 29\n",
      "building tree 13 of 29\n",
      "building tree 14 of 29\n",
      "building tree 15 of 29\n",
      "building tree 16 of 29\n",
      "building tree 17 of 29\n",
      "building tree 18 of 29\n",
      "building tree 19 of 29\n",
      "building tree 20 of 29\n",
      "building tree 21 of 29\n",
      "building tree 22 of 29\n",
      "building tree 23 of 29\n",
      "building tree 24 of 29\n",
      "building tree 25 of 29\n",
      "building tree 26 of 29\n",
      "building tree 27 of 29\n",
      "building tree 28 of 29\n",
      "building tree 29 of 29\n"
     ]
    },
    {
     "name": "stderr",
     "output_type": "stream",
     "text": [
      "[Parallel(n_jobs=-1)]: Done  29 out of  29 | elapsed:  1.6min remaining:    0.0s\n",
      "[Parallel(n_jobs=-1)]: Done  29 out of  29 | elapsed:  1.6min finished\n",
      "[Parallel(n_jobs=-1)]: Using backend ThreadingBackend with 8 concurrent workers.\n"
     ]
    },
    {
     "name": "stdout",
     "output_type": "stream",
     "text": [
      "building tree 1 of 30building tree 2 of 30\n",
      "\n",
      "building tree 3 of 30\n",
      "building tree 4 of 30\n",
      "building tree 5 of 30building tree 6 of 30\n",
      "building tree 7 of 30\n",
      "building tree 8 of 30\n",
      "\n",
      "building tree 9 of 30\n",
      "building tree 10 of 30\n",
      "building tree 11 of 30\n",
      "building tree 12 of 30\n",
      "building tree 13 of 30\n",
      "building tree 14 of 30\n",
      "building tree 15 of 30\n",
      "building tree 16 of 30\n",
      "building tree 17 of 30\n",
      "building tree 18 of 30\n",
      "building tree 19 of 30\n",
      "building tree 20 of 30\n",
      "building tree 21 of 30\n",
      "building tree 22 of 30\n",
      "building tree 23 of 30\n",
      "building tree 24 of 30\n",
      "building tree 25 of 30\n",
      "building tree 26 of 30\n",
      "building tree 27 of 30\n",
      "building tree 28 of 30\n",
      "building tree 29 of 30\n",
      "building tree 30 of 30\n"
     ]
    },
    {
     "name": "stderr",
     "output_type": "stream",
     "text": [
      "[Parallel(n_jobs=-1)]: Done  30 out of  30 | elapsed:  1.7min finished\n",
      "[Parallel(n_jobs=-1)]: Using backend ThreadingBackend with 8 concurrent workers.\n"
     ]
    },
    {
     "name": "stdout",
     "output_type": "stream",
     "text": [
      "building tree 1 of 31building tree 2 of 31\n",
      "building tree 3 of 31\n",
      "\n",
      "building tree 4 of 31\n",
      "building tree 5 of 31building tree 6 of 31\n",
      "building tree 7 of 31\n",
      "building tree 8 of 31\n",
      "\n",
      "building tree 9 of 31\n",
      "building tree 10 of 31\n",
      "building tree 11 of 31\n",
      "building tree 12 of 31\n",
      "building tree 13 of 31\n",
      "building tree 14 of 31\n",
      "building tree 15 of 31\n",
      "building tree 16 of 31\n",
      "building tree 17 of 31\n",
      "building tree 18 of 31\n",
      "building tree 19 of 31\n",
      "building tree 20 of 31\n",
      "building tree 21 of 31\n",
      "building tree 22 of 31\n",
      "building tree 23 of 31\n",
      "building tree 24 of 31\n",
      "building tree 25 of 31\n",
      "building tree 26 of 31\n",
      "building tree 27 of 31\n",
      "building tree 28 of 31\n",
      "building tree 29 of 31\n",
      "building tree 30 of 31\n",
      "building tree 31 of 31\n"
     ]
    },
    {
     "name": "stderr",
     "output_type": "stream",
     "text": [
      "[Parallel(n_jobs=-1)]: Done  31 out of  31 | elapsed:  1.7min finished\n",
      "[Parallel(n_jobs=-1)]: Using backend ThreadingBackend with 8 concurrent workers.\n"
     ]
    },
    {
     "name": "stdout",
     "output_type": "stream",
     "text": [
      "building tree 1 of 32building tree 2 of 32\n",
      "building tree 3 of 32\n",
      "\n",
      "building tree 4 of 32\n",
      "building tree 5 of 32\n",
      "building tree 6 of 32building tree 7 of 32\n",
      "\n",
      "building tree 8 of 32\n",
      "building tree 9 of 32\n",
      "building tree 10 of 32\n",
      "building tree 11 of 32\n",
      "building tree 12 of 32\n",
      "building tree 13 of 32\n",
      "building tree 14 of 32\n",
      "building tree 15 of 32\n",
      "building tree 16 of 32\n",
      "building tree 17 of 32\n",
      "building tree 18 of 32\n",
      "building tree 19 of 32\n",
      "building tree 20 of 32\n",
      "building tree 21 of 32\n",
      "building tree 22 of 32\n",
      "building tree 23 of 32\n",
      "building tree 24 of 32\n",
      "building tree 25 of 32\n",
      "building tree 26 of 32\n",
      "building tree 27 of 32\n",
      "building tree 28 of 32\n",
      "building tree 29 of 32\n",
      "building tree 30 of 32\n",
      "building tree 31 of 32\n",
      "building tree 32 of 32\n"
     ]
    },
    {
     "name": "stderr",
     "output_type": "stream",
     "text": [
      "[Parallel(n_jobs=-1)]: Done  32 out of  32 | elapsed:  1.7min finished\n",
      "[Parallel(n_jobs=-1)]: Using backend ThreadingBackend with 8 concurrent workers.\n"
     ]
    },
    {
     "name": "stdout",
     "output_type": "stream",
     "text": [
      "building tree 1 of 33building tree 2 of 33\n",
      "\n",
      "building tree 3 of 33\n",
      "building tree 4 of 33\n",
      "building tree 5 of 33\n",
      "building tree 6 of 33building tree 7 of 33\n",
      "building tree 8 of 33\n",
      "\n",
      "building tree 9 of 33\n",
      "building tree 10 of 33\n",
      "building tree 11 of 33\n",
      "building tree 12 of 33\n",
      "building tree 13 of 33\n",
      "building tree 14 of 33\n",
      "building tree 15 of 33\n",
      "building tree 16 of 33\n",
      "building tree 17 of 33\n",
      "building tree 18 of 33\n",
      "building tree 19 of 33\n",
      "building tree 20 of 33\n",
      "building tree 21 of 33\n",
      "building tree 22 of 33\n",
      "building tree 23 of 33\n",
      "building tree 24 of 33\n",
      "building tree 25 of 33\n",
      "building tree 26 of 33\n",
      "building tree 27 of 33\n",
      "building tree 28 of 33\n",
      "building tree 29 of 33\n",
      "building tree 30 of 33\n",
      "building tree 31 of 33\n",
      "building tree 32 of 33\n",
      "building tree 33 of 33\n"
     ]
    },
    {
     "name": "stderr",
     "output_type": "stream",
     "text": [
      "[Parallel(n_jobs=-1)]: Done  33 out of  33 | elapsed:  2.0min finished\n",
      "[Parallel(n_jobs=-1)]: Using backend ThreadingBackend with 8 concurrent workers.\n"
     ]
    },
    {
     "name": "stdout",
     "output_type": "stream",
     "text": [
      "building tree 1 of 34\n",
      "building tree 2 of 34\n",
      "building tree 3 of 34\n",
      "building tree 4 of 34building tree 5 of 34\n",
      "building tree 6 of 34\n",
      "building tree 7 of 34\n",
      "building tree 8 of 34\n",
      "\n",
      "building tree 9 of 34\n",
      "building tree 10 of 34\n",
      "building tree 11 of 34\n",
      "building tree 12 of 34\n",
      "building tree 13 of 34\n",
      "building tree 14 of 34\n",
      "building tree 15 of 34\n",
      "building tree 16 of 34\n",
      "building tree 17 of 34\n",
      "building tree 18 of 34\n",
      "building tree 19 of 34\n",
      "building tree 20 of 34\n",
      "building tree 21 of 34\n",
      "building tree 22 of 34\n",
      "building tree 23 of 34\n",
      "building tree 24 of 34\n",
      "building tree 25 of 34\n",
      "building tree 26 of 34\n",
      "building tree 27 of 34\n",
      "building tree 28 of 34\n",
      "building tree 29 of 34\n",
      "building tree 30 of 34\n",
      "building tree 31 of 34\n",
      "building tree 32 of 34\n",
      "building tree 33 of 34\n",
      "building tree 34 of 34\n"
     ]
    },
    {
     "name": "stderr",
     "output_type": "stream",
     "text": [
      "[Parallel(n_jobs=-1)]: Done  34 out of  34 | elapsed:  1.9min finished\n",
      "[Parallel(n_jobs=-1)]: Using backend ThreadingBackend with 8 concurrent workers.\n"
     ]
    },
    {
     "name": "stdout",
     "output_type": "stream",
     "text": [
      "building tree 1 of 35building tree 2 of 35\n",
      "\n",
      "building tree 3 of 35\n",
      "building tree 4 of 35building tree 5 of 35\n",
      "building tree 6 of 35\n",
      "building tree 7 of 35\n",
      "building tree 8 of 35\n",
      "\n",
      "building tree 9 of 35\n",
      "building tree 10 of 35\n",
      "building tree 11 of 35\n",
      "building tree 12 of 35\n",
      "building tree 13 of 35\n",
      "building tree 14 of 35\n",
      "building tree 15 of 35\n",
      "building tree 16 of 35\n",
      "building tree 17 of 35\n",
      "building tree 18 of 35\n",
      "building tree 19 of 35\n",
      "building tree 20 of 35\n",
      "building tree 21 of 35\n",
      "building tree 22 of 35\n",
      "building tree 23 of 35\n",
      "building tree 24 of 35\n",
      "building tree 25 of 35\n",
      "building tree 26 of 35\n",
      "building tree 27 of 35\n",
      "building tree 28 of 35\n",
      "building tree 29 of 35\n",
      "building tree 30 of 35\n",
      "building tree 31 of 35\n",
      "building tree 32 of 35\n",
      "building tree 33 of 35\n",
      "building tree 34 of 35\n",
      "building tree 35 of 35\n"
     ]
    },
    {
     "name": "stderr",
     "output_type": "stream",
     "text": [
      "[Parallel(n_jobs=-1)]: Done  35 out of  35 | elapsed:  1.9min finished\n",
      "[Parallel(n_jobs=-1)]: Using backend ThreadingBackend with 8 concurrent workers.\n"
     ]
    },
    {
     "name": "stdout",
     "output_type": "stream",
     "text": [
      "building tree 1 of 36building tree 2 of 36\n",
      "building tree 3 of 36\n",
      "\n",
      "building tree 4 of 36building tree 5 of 36\n",
      "\n",
      "building tree 6 of 36building tree 7 of 36\n",
      "building tree 8 of 36\n",
      "\n",
      "building tree 9 of 36\n",
      "building tree 10 of 36\n",
      "building tree 11 of 36\n",
      "building tree 12 of 36\n",
      "building tree 13 of 36\n",
      "building tree 14 of 36\n",
      "building tree 15 of 36\n",
      "building tree 16 of 36\n",
      "building tree 17 of 36\n",
      "building tree 18 of 36\n",
      "building tree 19 of 36\n",
      "building tree 20 of 36\n",
      "building tree 21 of 36\n",
      "building tree 22 of 36\n",
      "building tree 23 of 36\n",
      "building tree 24 of 36\n",
      "building tree 25 of 36\n",
      "building tree 26 of 36\n",
      "building tree 27 of 36\n",
      "building tree 28 of 36\n",
      "building tree 29 of 36\n",
      "building tree 30 of 36\n",
      "building tree 31 of 36\n",
      "building tree 32 of 36\n",
      "building tree 33 of 36\n",
      "building tree 34 of 36\n",
      "building tree 35 of 36\n",
      "building tree 36 of 36\n"
     ]
    },
    {
     "name": "stderr",
     "output_type": "stream",
     "text": [
      "[Parallel(n_jobs=-1)]: Done  36 out of  36 | elapsed:  2.1min finished\n",
      "[Parallel(n_jobs=-1)]: Using backend ThreadingBackend with 8 concurrent workers.\n"
     ]
    },
    {
     "name": "stdout",
     "output_type": "stream",
     "text": [
      "building tree 1 of 37\n",
      "building tree 2 of 37building tree 3 of 37\n",
      "building tree 4 of 37\n",
      "building tree 5 of 37\n",
      "\n",
      "building tree 6 of 37building tree 7 of 37\n",
      "building tree 8 of 37\n",
      "\n",
      "building tree 9 of 37\n",
      "building tree 10 of 37\n",
      "building tree 11 of 37\n",
      "building tree 12 of 37\n",
      "building tree 13 of 37\n",
      "building tree 14 of 37\n",
      "building tree 15 of 37\n",
      "building tree 16 of 37\n",
      "building tree 17 of 37\n",
      "building tree 18 of 37\n",
      "building tree 19 of 37\n",
      "building tree 20 of 37\n",
      "building tree 21 of 37\n",
      "building tree 22 of 37\n",
      "building tree 23 of 37\n",
      "building tree 24 of 37\n",
      "building tree 25 of 37\n",
      "building tree 26 of 37\n",
      "building tree 27 of 37\n",
      "building tree 28 of 37\n",
      "building tree 29 of 37\n",
      "building tree 30 of 37\n",
      "building tree 31 of 37\n",
      "building tree 32 of 37\n",
      "building tree 33 of 37\n",
      "building tree 34 of 37\n",
      "building tree 35 of 37\n",
      "building tree 36 of 37\n",
      "building tree 37 of 37\n"
     ]
    },
    {
     "name": "stderr",
     "output_type": "stream",
     "text": [
      "[Parallel(n_jobs=-1)]: Done  37 out of  37 | elapsed:  2.1min finished\n",
      "[Parallel(n_jobs=-1)]: Using backend ThreadingBackend with 8 concurrent workers.\n"
     ]
    },
    {
     "name": "stdout",
     "output_type": "stream",
     "text": [
      "building tree 1 of 38\n",
      "building tree 2 of 38\n",
      "building tree 3 of 38\n",
      "building tree 4 of 38\n",
      "building tree 5 of 38\n",
      "building tree 6 of 38\n",
      "building tree 7 of 38building tree 8 of 38\n",
      "\n",
      "building tree 9 of 38\n",
      "building tree 10 of 38\n",
      "building tree 11 of 38\n",
      "building tree 12 of 38\n",
      "building tree 13 of 38\n",
      "building tree 14 of 38\n",
      "building tree 15 of 38\n",
      "building tree 16 of 38\n",
      "building tree 17 of 38\n",
      "building tree 18 of 38\n",
      "building tree 19 of 38\n",
      "building tree 20 of 38\n",
      "building tree 21 of 38\n",
      "building tree 22 of 38\n",
      "building tree 23 of 38\n",
      "building tree 24 of 38\n",
      "building tree 25 of 38\n",
      "building tree 26 of 38\n",
      "building tree 27 of 38\n",
      "building tree 28 of 38\n",
      "building tree 29 of 38\n",
      "building tree 30 of 38\n",
      "building tree 31 of 38\n",
      "building tree 32 of 38\n",
      "building tree 33 of 38\n",
      "building tree 34 of 38\n",
      "building tree 35 of 38\n",
      "building tree 36 of 38\n",
      "building tree 37 of 38\n",
      "building tree 38 of 38\n"
     ]
    },
    {
     "name": "stderr",
     "output_type": "stream",
     "text": [
      "[Parallel(n_jobs=-1)]: Done  38 out of  38 | elapsed:  2.0min finished\n",
      "[Parallel(n_jobs=-1)]: Using backend ThreadingBackend with 8 concurrent workers.\n"
     ]
    },
    {
     "name": "stdout",
     "output_type": "stream",
     "text": [
      "building tree 1 of 39\n",
      "building tree 2 of 39\n",
      "building tree 3 of 39\n",
      "building tree 4 of 39\n",
      "building tree 5 of 39\n",
      "building tree 6 of 39\n",
      "building tree 7 of 39building tree 8 of 39\n",
      "\n",
      "building tree 9 of 39\n",
      "building tree 10 of 39\n",
      "building tree 11 of 39\n",
      "building tree 12 of 39\n",
      "building tree 13 of 39\n",
      "building tree 14 of 39\n",
      "building tree 15 of 39\n",
      "building tree 16 of 39\n",
      "building tree 17 of 39\n",
      "building tree 18 of 39\n",
      "building tree 19 of 39\n",
      "building tree 20 of 39\n",
      "building tree 21 of 39\n",
      "building tree 22 of 39\n",
      "building tree 23 of 39\n",
      "building tree 24 of 39\n",
      "building tree 25 of 39\n",
      "building tree 26 of 39\n",
      "building tree 27 of 39\n",
      "building tree 28 of 39\n",
      "building tree 29 of 39\n",
      "building tree 30 of 39\n",
      "building tree 31 of 39\n",
      "building tree 32 of 39\n",
      "building tree 33 of 39\n",
      "building tree 34 of 39\n",
      "building tree 35 of 39\n",
      "building tree 36 of 39\n",
      "building tree 37 of 39\n",
      "building tree 38 of 39\n",
      "building tree 39 of 39\n"
     ]
    },
    {
     "name": "stderr",
     "output_type": "stream",
     "text": [
      "[Parallel(n_jobs=-1)]: Done  39 out of  39 | elapsed:  2.1min finished\n",
      "[Parallel(n_jobs=-1)]: Using backend ThreadingBackend with 8 concurrent workers.\n"
     ]
    },
    {
     "name": "stdout",
     "output_type": "stream",
     "text": [
      "building tree 1 of 40building tree 2 of 40\n",
      "\n",
      "building tree 3 of 40building tree 4 of 40\n",
      "building tree 5 of 40\n",
      "building tree 6 of 40\n",
      "building tree 7 of 40\n",
      "building tree 8 of 40\n",
      "\n",
      "building tree 9 of 40\n",
      "building tree 10 of 40\n",
      "building tree 11 of 40\n",
      "building tree 12 of 40\n",
      "building tree 13 of 40\n",
      "building tree 14 of 40\n",
      "building tree 15 of 40\n",
      "building tree 16 of 40\n",
      "building tree 17 of 40\n",
      "building tree 18 of 40\n",
      "building tree 19 of 40\n",
      "building tree 20 of 40\n",
      "building tree 21 of 40\n",
      "building tree 22 of 40\n",
      "building tree 23 of 40\n",
      "building tree 24 of 40\n",
      "building tree 25 of 40\n",
      "building tree 26 of 40\n",
      "building tree 27 of 40\n",
      "building tree 28 of 40\n",
      "building tree 29 of 40\n",
      "building tree 30 of 40\n",
      "building tree 31 of 40\n",
      "building tree 32 of 40\n"
     ]
    },
    {
     "name": "stderr",
     "output_type": "stream",
     "text": [
      "[Parallel(n_jobs=-1)]: Done  25 tasks      | elapsed:  1.7min\n"
     ]
    },
    {
     "name": "stdout",
     "output_type": "stream",
     "text": [
      "building tree 33 of 40\n",
      "building tree 34 of 40building tree 35 of 40\n",
      "\n",
      "building tree 36 of 40\n",
      "building tree 37 of 40\n",
      "building tree 38 of 40\n",
      "building tree 39 of 40\n",
      "building tree 40 of 40\n"
     ]
    },
    {
     "name": "stderr",
     "output_type": "stream",
     "text": [
      "[Parallel(n_jobs=-1)]: Done  40 out of  40 | elapsed:  2.3min finished\n",
      "[Parallel(n_jobs=-1)]: Using backend ThreadingBackend with 8 concurrent workers.\n"
     ]
    },
    {
     "name": "stdout",
     "output_type": "stream",
     "text": [
      "building tree 1 of 41building tree 2 of 41\n",
      "building tree 3 of 41\n",
      "building tree 4 of 41\n",
      "building tree 5 of 41\n",
      "building tree 6 of 41\n",
      "\n",
      "building tree 7 of 41\n",
      "building tree 8 of 41\n",
      "building tree 9 of 41\n",
      "building tree 10 of 41\n",
      "building tree 11 of 41\n",
      "building tree 12 of 41\n",
      "building tree 13 of 41\n",
      "building tree 14 of 41\n",
      "building tree 15 of 41\n",
      "building tree 16 of 41\n",
      "building tree 17 of 41\n",
      "building tree 18 of 41\n",
      "building tree 19 of 41\n",
      "building tree 20 of 41\n",
      "building tree 21 of 41\n",
      "building tree 22 of 41\n",
      "building tree 23 of 41\n",
      "building tree 24 of 41\n",
      "building tree 25 of 41\n",
      "building tree 26 of 41\n",
      "building tree 27 of 41\n",
      "building tree 28 of 41\n",
      "building tree 29 of 41\n",
      "building tree 30 of 41\n",
      "building tree 31 of 41\n",
      "building tree 32 of 41\n"
     ]
    },
    {
     "name": "stderr",
     "output_type": "stream",
     "text": [
      "[Parallel(n_jobs=-1)]: Done  25 tasks      | elapsed:  1.7min\n"
     ]
    },
    {
     "name": "stdout",
     "output_type": "stream",
     "text": [
      "building tree 33 of 41\n",
      "building tree 34 of 41\n",
      "building tree 35 of 41\n",
      "building tree 36 of 41\n",
      "building tree 37 of 41\n",
      "building tree 38 of 41\n",
      "building tree 39 of 41\n",
      "building tree 40 of 41\n",
      "building tree 41 of 41\n"
     ]
    },
    {
     "name": "stderr",
     "output_type": "stream",
     "text": [
      "[Parallel(n_jobs=-1)]: Done  41 out of  41 | elapsed:  2.4min finished\n",
      "[Parallel(n_jobs=-1)]: Using backend ThreadingBackend with 8 concurrent workers.\n"
     ]
    },
    {
     "name": "stdout",
     "output_type": "stream",
     "text": [
      "building tree 1 of 42\n",
      "building tree 2 of 42\n",
      "building tree 3 of 42\n",
      "building tree 4 of 42building tree 5 of 42\n",
      "building tree 6 of 42\n",
      "building tree 7 of 42\n",
      "\n",
      "building tree 8 of 42\n",
      "building tree 9 of 42\n",
      "building tree 10 of 42\n",
      "building tree 11 of 42\n",
      "building tree 12 of 42\n",
      "building tree 13 of 42\n",
      "building tree 14 of 42\n",
      "building tree 15 of 42\n",
      "building tree 16 of 42\n",
      "building tree 17 of 42\n",
      "building tree 18 of 42\n",
      "building tree 19 of 42\n",
      "building tree 20 of 42\n",
      "building tree 21 of 42\n",
      "building tree 22 of 42\n",
      "building tree 23 of 42\n",
      "building tree 24 of 42\n",
      "building tree 25 of 42\n",
      "building tree 26 of 42\n",
      "building tree 27 of 42\n",
      "building tree 28 of 42\n",
      "building tree 29 of 42\n",
      "building tree 30 of 42\n",
      "building tree 31 of 42\n",
      "building tree 32 of 42\n"
     ]
    },
    {
     "name": "stderr",
     "output_type": "stream",
     "text": [
      "[Parallel(n_jobs=-1)]: Done  25 tasks      | elapsed:  1.7min\n"
     ]
    },
    {
     "name": "stdout",
     "output_type": "stream",
     "text": [
      "building tree 33 of 42\n",
      "building tree 34 of 42\n",
      "building tree 35 of 42\n",
      "building tree 36 of 42\n",
      "building tree 37 of 42\n",
      "building tree 38 of 42\n",
      "building tree 39 of 42\n",
      "building tree 40 of 42\n",
      "building tree 41 of 42\n",
      "building tree 42 of 42\n"
     ]
    },
    {
     "name": "stderr",
     "output_type": "stream",
     "text": [
      "[Parallel(n_jobs=-1)]: Done  42 out of  42 | elapsed:  2.4min finished\n",
      "[Parallel(n_jobs=-1)]: Using backend ThreadingBackend with 8 concurrent workers.\n"
     ]
    },
    {
     "name": "stdout",
     "output_type": "stream",
     "text": [
      "building tree 1 of 43building tree 2 of 43\n",
      "building tree 3 of 43\n",
      "building tree 4 of 43\n",
      "\n",
      "building tree 5 of 43\n",
      "building tree 6 of 43building tree 7 of 43\n",
      "\n",
      "building tree 8 of 43\n",
      "building tree 9 of 43\n",
      "building tree 10 of 43\n",
      "building tree 11 of 43\n",
      "building tree 12 of 43\n",
      "building tree 13 of 43\n",
      "building tree 14 of 43\n",
      "building tree 15 of 43\n",
      "building tree 16 of 43\n",
      "building tree 17 of 43\n",
      "building tree 18 of 43\n",
      "building tree 19 of 43\n",
      "building tree 20 of 43\n",
      "building tree 21 of 43\n",
      "building tree 22 of 43\n",
      "building tree 23 of 43\n",
      "building tree 24 of 43\n",
      "building tree 25 of 43\n",
      "building tree 26 of 43\n",
      "building tree 27 of 43\n",
      "building tree 28 of 43\n",
      "building tree 29 of 43\n",
      "building tree 30 of 43\n",
      "building tree 31 of 43\n",
      "building tree 32 of 43\n",
      "building tree 33 of 43\n"
     ]
    },
    {
     "name": "stderr",
     "output_type": "stream",
     "text": [
      "[Parallel(n_jobs=-1)]: Done  25 tasks      | elapsed:  1.7min\n"
     ]
    },
    {
     "name": "stdout",
     "output_type": "stream",
     "text": [
      "building tree 34 of 43\n",
      "building tree 35 of 43\n",
      "building tree 36 of 43\n",
      "building tree 37 of 43\n",
      "building tree 38 of 43\n",
      "building tree 39 of 43\n",
      "building tree 40 of 43\n",
      "building tree 41 of 43\n",
      "building tree 42 of 43\n",
      "building tree 43 of 43\n"
     ]
    },
    {
     "name": "stderr",
     "output_type": "stream",
     "text": [
      "[Parallel(n_jobs=-1)]: Done  43 out of  43 | elapsed:  2.4min finished\n",
      "[Parallel(n_jobs=-1)]: Using backend ThreadingBackend with 8 concurrent workers.\n"
     ]
    },
    {
     "name": "stdout",
     "output_type": "stream",
     "text": [
      "building tree 1 of 44\n",
      "building tree 2 of 44\n",
      "building tree 3 of 44building tree 4 of 44\n",
      "building tree 5 of 44\n",
      "building tree 6 of 44\n",
      "building tree 7 of 44\n",
      "\n",
      "building tree 8 of 44\n",
      "building tree 9 of 44\n",
      "building tree 10 of 44\n",
      "building tree 11 of 44\n",
      "building tree 12 of 44\n",
      "building tree 13 of 44\n",
      "building tree 14 of 44\n",
      "building tree 15 of 44\n",
      "building tree 16 of 44\n",
      "building tree 17 of 44\n",
      "building tree 18 of 44\n",
      "building tree 19 of 44\n",
      "building tree 20 of 44\n",
      "building tree 21 of 44\n",
      "building tree 22 of 44\n",
      "building tree 23 of 44\n",
      "building tree 24 of 44\n",
      "building tree 25 of 44\n",
      "building tree 26 of 44\n",
      "building tree 27 of 44\n",
      "building tree 28 of 44\n",
      "building tree 29 of 44\n",
      "building tree 30 of 44\n",
      "building tree 31 of 44\n",
      "building tree 32 of 44\n",
      "building tree 33 of 44\n"
     ]
    },
    {
     "name": "stderr",
     "output_type": "stream",
     "text": [
      "[Parallel(n_jobs=-1)]: Done  25 tasks      | elapsed:  1.7min\n"
     ]
    },
    {
     "name": "stdout",
     "output_type": "stream",
     "text": [
      "building tree 34 of 44\n",
      "building tree 35 of 44\n",
      "building tree 36 of 44\n",
      "building tree 37 of 44\n",
      "building tree 38 of 44\n",
      "building tree 39 of 44\n",
      "building tree 40 of 44\n",
      "building tree 41 of 44\n",
      "building tree 42 of 44\n",
      "building tree 43 of 44\n",
      "building tree 44 of 44\n"
     ]
    },
    {
     "name": "stderr",
     "output_type": "stream",
     "text": [
      "[Parallel(n_jobs=-1)]: Done  44 out of  44 | elapsed:  2.4min finished\n",
      "[Parallel(n_jobs=8)]: Using backend ThreadingBackend with 8 concurrent workers.\n",
      "[Parallel(n_jobs=8)]: Done  25 tasks      | elapsed:   57.9s\n",
      "[Parallel(n_jobs=8)]: Done  44 out of  44 | elapsed:  1.3min finished\n"
     ]
    }
   ],
   "source": [
    "from sklearn.ensemble import RandomForestRegressor\n",
    "from sklearn.model_selection import RandomizedSearchCV\n",
    "from functools import reduce\n",
    "import matplotlib.pyplot as plt\n",
    "\n",
    "feature_importances = []\n",
    "\n",
    "def gen_rf(X_train, y_train):\n",
    "    rf = RandomForestRegressor(n_estimators = 2, verbose=3)\n",
    "    rf.fit(X_train, y_train)\n",
    "    return rf\n",
    "\n",
    "def combine_rf(a, b):\n",
    "    a.estimators_ += b.estimators_\n",
    "    a.n_estimators = len(a.estimators_)\n",
    "    return a\n",
    "\n",
    "def rf_train(chunk_list):\n",
    "    rf_list = [gen_rf(chunk[chunk.columns.difference([LABEL])], chunk[LABEL]) for chunk in chunk_list]\n",
    "    rf_total = reduce(combine_rf, rf_list)\n",
    "    y_predict = rf_total.predict(TEST[TEST.columns.difference([LABEL])])\n",
    "    return y_predict\n",
    "\n",
    "def get_best_rf_params(training_data):\n",
    "    # Number of trees in random forest\n",
    "    n_estimators = [int(x) for x in np.linspace(start = 5, stop = 200, num = 5)]\n",
    "    # Number of features to consider at every split\n",
    "    max_features = ['auto', 'sqrt']\n",
    "    # Maximum number of levels in tree\n",
    "    max_depth = [int(x) for x in np.linspace(10, 110, num = 11)]\n",
    "    max_depth.append(None)\n",
    "    # Minimum number of samples required to split a node\n",
    "    min_samples_split = [2, 5, 10]\n",
    "    # Minimum number of samples required at each leaf node\n",
    "    min_samples_leaf = [1, 2, 4]\n",
    "    # Method of selecting samples for training each tree\n",
    "    bootstrap = [True, False]\n",
    "    \n",
    "    # Create the random grid\n",
    "    random_grid = {'n_estimators': n_estimators,\n",
    "                   'max_features': max_features,\n",
    "                   'max_depth': max_depth,\n",
    "                   'min_samples_split': min_samples_split,\n",
    "                   'min_samples_leaf': min_samples_leaf,\n",
    "                   'bootstrap': bootstrap}\n",
    "    \n",
    "    rf = RandomForestRegressor()\n",
    "    rf_r = RandomizedSearchCV(estimator = rf, param_distributions = random_grid, n_iter = 100, cv = 3, verbose=2, random_state=5, n_jobs = -1)\n",
    "    rf_r.fit(training_data[FEATURES], training_data[LABEL])\n",
    "    return rf_r.best_params_\n",
    "\n",
    "    \n",
    "def rf_train_warm_start(chunk_list, n_estimators = 1):\n",
    "    global feature_importances\n",
    "    \n",
    "    rf = RandomForestRegressor(\n",
    "        n_estimators = n_estimators,\n",
    "        min_samples_split = 10,\n",
    "        min_samples_leaf = 1,\n",
    "        max_features = 'auto',\n",
    "        max_depth = 100,\n",
    "        bootstrap = True,\n",
    "        random_state=5,\n",
    "        verbose=2,\n",
    "        n_jobs=-1\n",
    "    )\n",
    "    \n",
    "    scaler = StandardScaler()\n",
    "    for index, chunk in enumerate(chunk_list):\n",
    "        X_train = chunk[FEATURES]\n",
    "        scaler.fit(X_train)\n",
    "        rf.fit(scaler.transform(X_train), chunk[LABEL])\n",
    "        if index != len(chunk_list) - 1:\n",
    "            rf.n_estimators += n_estimators\n",
    "    X_test = TEST[FEATURES]\n",
    "    y_predict = rf.predict(scaler.transform(X_test))\n",
    "    \n",
    "    # set global feature_importances\n",
    "    feature_importances = sorted(\n",
    "        [(feature, round(importance, 2)) for feature, importance in zip(FEATURES, rf.feature_importances_)], \n",
    "        key = lambda x: x[1], \n",
    "        reverse = True\n",
    "    )\n",
    "    \n",
    "    return y_predict\n",
    "\n",
    "#print(get_best_rf_params(TRAIN))\n",
    "print('Getting RF Predictions...')\n",
    "Y_PREDICT_RF = rf_train_warm_start(TRAINING_LIST)\n",
    "#Y_PREDICT_RF = rf_train_warm_start([TRAIN], n_estimators=20)"
   ]
  },
  {
   "cell_type": "code",
   "execution_count": 6,
   "metadata": {},
   "outputs": [
    {
     "data": {
      "image/png": "[encoded data removed]",
      "text/plain": [
       "<Figure size 432x288 with 1 Axes>"
      ]
     },
     "metadata": {
      "needs_background": "light"
     },
     "output_type": "display_data"
    }
   ],
   "source": [
    "def plot_feature_importances_bar(feature_importances):\n",
    "    %matplotlib inline\n",
    "    x_values = list(range(len(feature_importances)))\n",
    "    plt.bar(x_values, [i[1] for i in feature_importances], orientation = 'vertical', color = 'r', edgecolor = 'k', linewidth = 1.2)\n",
    "    plt.xticks(x_values, [i[0] for i in feature_importances], rotation='vertical')\n",
    "    plt.ylabel('Importance')\n",
    "    plt.xlabel('Variable')\n",
    "    plt.title('Variable Importances')\n",
    "\n",
    "plot_feature_importances_bar(feature_importances)"
   ]
  },
  {
   "cell_type": "code",
   "execution_count": 7,
   "metadata": {},
   "outputs": [
    {
     "data": {
      "image/png": "[encoded data removed]",
      "text/plain": [
       "<Figure size 432x288 with 1 Axes>"
      ]
     },
     "metadata": {
      "needs_background": "light"
     },
     "output_type": "display_data"
    }
   ],
   "source": [
    "def plot_feature_importances_cumulative(feature_importances):\n",
    "    %matplotlib inline\n",
    "    x_values = list(range(len(feature_importances)))\n",
    "    # List of features sorted from most to least important\n",
    "    sorted_importances = [importance[1] for importance in feature_importances]\n",
    "    sorted_features = [importance[0] for importance in feature_importances]\n",
    "    # Cumulative importances\n",
    "    cumulative_importances = np.cumsum(sorted_importances)\n",
    "    # Make a line graph\n",
    "    plt.plot(x_values, cumulative_importances, 'g-')\n",
    "    # Draw line at 95% of importance retained\n",
    "    plt.hlines(y = 0.95, xmin=0, xmax=len(sorted_importances), color = 'r', linestyles = 'dashed')\n",
    "    # Format x ticks and labels\n",
    "    plt.xticks(x_values, sorted_features, rotation = 'vertical')\n",
    "    # Axis labels and title\n",
    "    plt.xlabel('Variable'); plt.ylabel('Cumulative Importance'); plt.title('Cumulative Importances');\n",
    "\n",
    "plot_feature_importances_cumulative(feature_importances)"
   ]
  },
  {
   "cell_type": "code",
   "execution_count": 13,
   "metadata": {},
   "outputs": [],
   "source": [
    "import lightgbm as lgb\n",
    "\n",
    "def lgb_train(training_data):\n",
    "    lgb_regressor = lgb.LGBMRegressor(objective='regression', random_state=5)\n",
    "    lgb_regressor.fit(training_data[FEATURES], training_data[LABEL])\n",
    "    return lgb_regressor.predict(TEST[FEATURES])\n",
    "\n",
    "Y_PREDICT_LGB = lgb_train(pd.concat(TRAINING_LIST))\n",
    "#Y_PREDICT_LGB = lgb_train(TRAIN)"
   ]
  },
  {
   "cell_type": "code",
   "execution_count": 14,
   "metadata": {},
   "outputs": [
    {
     "name": "stdout",
     "output_type": "stream",
     "text": [
      "SGB RMSE: 5.364220742355958\n",
      "RF RMSE: 4.093538688772342\n",
      "LGB RMSE: 4.717906253777697\n"
     ]
    }
   ],
   "source": [
    "from sklearn import metrics\n",
    "import numpy as np\n",
    "\n",
    "def calc_rmse(y_test, y_prediction):\n",
    "    # Calculating \"Mean Square Error\" (MSE):\n",
    "    mse = metrics.mean_squared_error(y_test, y_prediction)\n",
    "\n",
    "    # Using numpy sqrt function to take the square root and calculate \"Root Mean Square Error\" (RMSE)\n",
    "    return np.sqrt(mse)\n",
    "\n",
    "print(f'SGB RMSE: {calc_rmse(TEST[LABEL], Y_PREDICT_SGD)}')\n",
    "print(f'RF RMSE: {calc_rmse(TEST[LABEL], Y_PREDICT_RF)}')\n",
    "print(f'LGB RMSE: {calc_rmse(TEST[LABEL], Y_PREDICT_LGB)}')"
   ]
  },
  {
   "cell_type": "code",
   "execution_count": null,
   "metadata": {},
   "outputs": [],
   "source": []
  }
 ],
 "metadata": {
  "kernelspec": {
   "display_name": "Python 3",
   "language": "python",
   "name": "python3"
  },
  "language_info": {
   "codemirror_mode": {
    "name": "ipython",
    "version": 3
   },
   "file_extension": ".py",
   "mimetype": "text/x-python",
   "name": "python",
   "nbconvert_exporter": "python",
   "pygments_lexer": "ipython3",
   "version": "3.7.3"
  }
 },
 "nbformat": 4,
 "nbformat_minor": 2
}
