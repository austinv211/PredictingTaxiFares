{
 "cells": [
  {
   "cell_type": "markdown",
   "metadata": {},
   "source": [
    "## Import our dataset\n",
    "- our dataset consists of several files:\n",
    "    - train.csv: our training data\n",
    "    - test.csv: our testing data\n",
    "    - sample_submissions.csv: A sample submission file in the correct format (columns key and fare_amount). This dummy file 'predicts' fare_amount to be $11.35 for all rows, which is the mean fare_amount from the training set."
   ]
  },
  {
   "cell_type": "code",
   "execution_count": 15,
   "metadata": {},
   "outputs": [
    {
     "data": {
      "text/html": [
       "<div>\n",
       "<style scoped>\n",
       "    .dataframe tbody tr th:only-of-type {\n",
       "        vertical-align: middle;\n",
       "    }\n",
       "\n",
       "    .dataframe tbody tr th {\n",
       "        vertical-align: top;\n",
       "    }\n",
       "\n",
       "    .dataframe thead th {\n",
       "        text-align: right;\n",
       "    }\n",
       "</style>\n",
       "<table border=\"1\" class=\"dataframe\">\n",
       "  <thead>\n",
       "    <tr style=\"text-align: right;\">\n",
       "      <th></th>\n",
       "      <th>key</th>\n",
       "      <th>fare_amount</th>\n",
       "      <th>pickup_datetime</th>\n",
       "      <th>pickup_longitude</th>\n",
       "      <th>pickup_latitude</th>\n",
       "      <th>dropoff_longitude</th>\n",
       "      <th>dropoff_latitude</th>\n",
       "      <th>passenger_count</th>\n",
       "    </tr>\n",
       "  </thead>\n",
       "  <tbody>\n",
       "    <tr>\n",
       "      <td>0</td>\n",
       "      <td>2009-06-15 17:26:21.0000001</td>\n",
       "      <td>4.5</td>\n",
       "      <td>2009-06-15 17:26:21 UTC</td>\n",
       "      <td>-73.844311</td>\n",
       "      <td>40.721319</td>\n",
       "      <td>-73.841610</td>\n",
       "      <td>40.712278</td>\n",
       "      <td>1</td>\n",
       "    </tr>\n",
       "    <tr>\n",
       "      <td>1</td>\n",
       "      <td>2010-01-05 16:52:16.0000002</td>\n",
       "      <td>16.9</td>\n",
       "      <td>2010-01-05 16:52:16 UTC</td>\n",
       "      <td>-74.016048</td>\n",
       "      <td>40.711303</td>\n",
       "      <td>-73.979268</td>\n",
       "      <td>40.782004</td>\n",
       "      <td>1</td>\n",
       "    </tr>\n",
       "    <tr>\n",
       "      <td>2</td>\n",
       "      <td>2011-08-18 00:35:00.00000049</td>\n",
       "      <td>5.7</td>\n",
       "      <td>2011-08-18 00:35:00 UTC</td>\n",
       "      <td>-73.982738</td>\n",
       "      <td>40.761270</td>\n",
       "      <td>-73.991242</td>\n",
       "      <td>40.750562</td>\n",
       "      <td>2</td>\n",
       "    </tr>\n",
       "    <tr>\n",
       "      <td>3</td>\n",
       "      <td>2012-04-21 04:30:42.0000001</td>\n",
       "      <td>7.7</td>\n",
       "      <td>2012-04-21 04:30:42 UTC</td>\n",
       "      <td>-73.987130</td>\n",
       "      <td>40.733143</td>\n",
       "      <td>-73.991567</td>\n",
       "      <td>40.758092</td>\n",
       "      <td>1</td>\n",
       "    </tr>\n",
       "    <tr>\n",
       "      <td>4</td>\n",
       "      <td>2010-03-09 07:51:00.000000135</td>\n",
       "      <td>5.3</td>\n",
       "      <td>2010-03-09 07:51:00 UTC</td>\n",
       "      <td>-73.968095</td>\n",
       "      <td>40.768008</td>\n",
       "      <td>-73.956655</td>\n",
       "      <td>40.783762</td>\n",
       "      <td>1</td>\n",
       "    </tr>\n",
       "  </tbody>\n",
       "</table>\n",
       "</div>"
      ],
      "text/plain": [
       "                             key  fare_amount          pickup_datetime  \\\n",
       "0    2009-06-15 17:26:21.0000001          4.5  2009-06-15 17:26:21 UTC   \n",
       "1    2010-01-05 16:52:16.0000002         16.9  2010-01-05 16:52:16 UTC   \n",
       "2   2011-08-18 00:35:00.00000049          5.7  2011-08-18 00:35:00 UTC   \n",
       "3    2012-04-21 04:30:42.0000001          7.7  2012-04-21 04:30:42 UTC   \n",
       "4  2010-03-09 07:51:00.000000135          5.3  2010-03-09 07:51:00 UTC   \n",
       "\n",
       "   pickup_longitude  pickup_latitude  dropoff_longitude  dropoff_latitude  \\\n",
       "0        -73.844311        40.721319         -73.841610         40.712278   \n",
       "1        -74.016048        40.711303         -73.979268         40.782004   \n",
       "2        -73.982738        40.761270         -73.991242         40.750562   \n",
       "3        -73.987130        40.733143         -73.991567         40.758092   \n",
       "4        -73.968095        40.768008         -73.956655         40.783762   \n",
       "\n",
       "   passenger_count  \n",
       "0                1  \n",
       "1                1  \n",
       "2                2  \n",
       "3                1  \n",
       "4                1  "
      ]
     },
     "execution_count": 15,
     "metadata": {},
     "output_type": "execute_result"
    }
   ],
   "source": [
    "import pandas as pd\n",
    "import os\n",
    "\n",
    "DATA_FILES_PATH = 'projectDataFiles/'\n",
    "\n",
    "def import_training_dataset(file_path, row_limit):\n",
    "    \"\"\"\n",
    "    function to import the dataset into a pandas dataframe.\n",
    "\n",
    "    Takes a row limit to limit the number of rows read.\n",
    "    \"\"\"\n",
    "    return pd.read_csv(file_path, nrows=row_limit)\n",
    "\n",
    "# assign the dataset to the TRAIN Dataframe, right now we are only loading 1,000,000 rows (possibly chunk and feather to reduce loading time)\n",
    "TRAIN = import_training_dataset(f'{DATA_FILES_PATH}train.csv', 1000000)\n",
    "\n",
    "# show the head of the the dataset to see its columns\n",
    "TRAIN.head()\n",
    "    "
   ]
  },
  {
   "cell_type": "markdown",
   "metadata": {},
   "source": [
    "## Define a function to get the manhattan distance between two lat/long points\n",
    "- manhattan distance should be fairly relistic to new york because of the ways that streets work there, but we might want to use the real travel distance between locations somehow"
   ]
  },
  {
   "cell_type": "markdown",
   "metadata": {},
   "source": [
    "# Jose\n",
    "using Google maps API might be over used due to size of data and will be charged"
   ]
  },
  {
   "cell_type": "code",
   "execution_count": 16,
   "metadata": {
    "collapsed": true
   },
   "outputs": [
    {
     "data": {
      "text/plain": [
       "0.011741999999998143"
      ]
     },
     "execution_count": 16,
     "metadata": {},
     "output_type": "execute_result"
    }
   ],
   "source": [
    "# PIP INSTALL GMAPS TO INSTALL GOOGLE MAPS\n",
    "# run on command line and/or terminal: pip install gmaps\n",
    "# NEW: pip install -U googlemaps\n",
    "\n",
    "import googlemaps\n",
    "from datetime import datetime\n",
    "\n",
    "gmaps = googlemaps.Client(key='key')\n",
    "\n",
    "# print(googlemaps)\n",
    "\n",
    "#distance = gmaps.distance_matrix(\"Los Angeles\", \"Las Vegas\")\n",
    "# distance = gmaps.distance_matrix((34.0522, -118.2437), (36.1699, -115.1398),mode='driving')[\"rows\"][0][\"elements\"][0][\"distance\"][\"value\"]\n",
    "# print(distance)\n",
    "\n",
    "# Geocoding an address\n",
    "#geocode_result = gmaps.geocode('1600 Amphitheatre Parkway, Mountain View, CA')\n",
    "\n",
    "# Look up an address with reverse geocoding\n",
    "#reverse_geocode_result = gmaps.reverse_geocode((36.1699, -115.1398))\n",
    "#print(reverse_geocode_result)\n",
    "\n",
    "# Request directions via public transit\n",
    "#now = datetime.now()\n",
    "#directions_result = gmaps.directions(\"Sydney Town Hall\",\n",
    "                                    # \"Parramatta, NSW\",\n",
    "                                    # mode=\"transit\",\n",
    "                                    # departure_time=now)\n",
    "\n",
    "#print(directions_result)\n"
   ]
  },
  {
   "cell_type": "markdown",
   "metadata": {},
   "source": [
    "# Brandon\n",
    "using distance formula"
   ]
  },
  {
   "cell_type": "code",
   "execution_count": 20,
   "metadata": {},
   "outputs": [
    {
     "name": "stdout",
     "output_type": "stream",
     "text": [
      "distance:\n",
      "0.00943584029114223\n"
     ]
    }
   ],
   "source": [
    "import math\n",
    "\n",
    "def geo_manhattan_distance(x1,y1,x2,y2):\n",
    "    \"\"\"\n",
    "    pickup_longitude   pickup_latitude   dropoff_longitude   dropoff_latitude\n",
    "    x1                 y1                x2                  y2\n",
    "    returns the manhattan distance between two geo points\n",
    "    \"\"\"\n",
    "    return math.sqrt((x2 - x1)**2 + (y2 - y1)**2)  \n",
    "print(\"distance:\")\n",
    "print(geo_manhattan_distance(\n",
    "    TRAIN['pickup_longitude'].iloc[0], TRAIN['pickup_latitude'].iloc[0],\n",
    "    TRAIN['dropoff_longitude'].iloc[0], TRAIN['dropoff_latitude'].iloc[0]))\n",
    "\n",
    "# test it out\n",
    "# it works tested it with an online calulator \n",
    "# pickup_longitude   pickup_latitude   dropoff_longitude     dropoff_latitude\n",
    "# -73.844311         40.721319         -73.841610            40.712278\n",
    "# x1                 y1                x2                    y2\n",
    "# distance: 0.00943584029114223\n",
    "\n"
   ]
  },
  {
   "cell_type": "markdown",
   "metadata": {},
   "source": [
    "insert distances to data frame"
   ]
  },
  {
   "cell_type": "code",
   "execution_count": null,
   "metadata": {},
   "outputs": [],
   "source": [
    "# Distances list\n",
    "Dis_list = []\n",
    "pointAB = ['pickup_longitude','pickup_latitude',\n",
    "            'dropoff_longitude','dropoff_latitude']\n",
    "\n",
    "# get distances of each column\n",
    "for i in range(len(TRAIN)):\n",
    "    Dis_list.append(geo_manhattan_distance(\n",
    "    TRAIN['pickup_longitude'].iloc[i], TRAIN['pickup_latitude'].iloc[i],\n",
    "    TRAIN['dropoff_longitude'].iloc[i], TRAIN['dropoff_latitude'].iloc[i]))\n",
    "\n",
    "# insert distance into panda\n",
    "TRAIN.insert(8,\"Distance\",Dis_list,True)\n",
    "\n",
    "TRAIN.head()"
   ]
  }
 ],
 "metadata": {
  "kernelspec": {
   "display_name": "Python 3",
   "language": "python",
   "name": "python3"
  },
  "language_info": {
   "codemirror_mode": {
    "name": "ipython",
    "version": 3
   },
   "file_extension": ".py",
   "mimetype": "text/x-python",
   "name": "python",
   "nbconvert_exporter": "python",
   "pygments_lexer": "ipython3",
   "version": "3.7.3"
  }
 },
 "nbformat": 4,
 "nbformat_minor": 2
}
